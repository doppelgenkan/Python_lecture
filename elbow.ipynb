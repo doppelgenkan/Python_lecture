{
 "cells": [
  {
   "cell_type": "markdown",
   "metadata": {},
   "source": [
    "## 肘関節に関する力と力のモーメントのプログラム\n",
    "\n",
    "Numpyを使って、下図のような上肢のモデルのシミュレーションをおこなうPython関数をプログラムしよう！プログラムに必要なNumpyモジュールとmatplotlibパッケージのpyplotモジュールについては、以下のリンク先のページをみてください：\n",
    "\n",
    "<a href=\"./docs/appendix_numpy.html\"><b>Numpyとmatplotlibの簡単公式</b></a>\n",
    "<img src = \"docs/arm.png\">  \n",
    "\n",
    "### ◾️パラメータ等\n",
    "【調整可能パラメータ】 \n",
    "- 体質量 : $w\\ (\\mathrm{kg})$\n",
    "- 錘質量 : $M\\ (\\mathrm{kg})$\n",
    "- 肘関節Oから錘の重心Qまでの距離 : OQ = $l\\ (\\mathrm{m})$  \n",
    "- 肩関節屈曲角 : $\\beta\\ (\\mathrm{degrees})$\n",
    "- 肘関節屈曲角 : $\\theta\\ (\\mathrm{degrees})\\ (\\theta>0)$\n",
    "- 角条件 : $\\beta\\geq0^\\circ,\\ 10^\\circ\\leq\\theta\\leq135^\\circ,\\ \\beta+\\theta<180^\\circ$\n",
    "\n",
    "【与えられたまたは計算可能なパラメータ】 \n",
    "- 前腕質量と手部の質量 : $m = 0.025w\\ (0^\\mathrm{kg})$\n",
    "- 肘関節Oから前腕重心Gまでの距離 : OG = $h = 0.5l\\ (\\mathrm{m})$\n",
    "- 肘関節Oから上腕筋の腱の装着部までの距離 : OP = $d=0.125l\\ (\\mathrm{m})$\n",
    "- 重力加速度 : $g=9.8\\ (\\mathrm{m/s^2})$\n",
    "\n",
    "【その他】\n",
    "- 上腕筋の力$\\bf{F}$は上腕と平行  \n",
    "\n",
    "### ◾️計算式等\n",
    "\n",
    "#### 1.  肘のまわりの外力のモーメントのz成分  \n",
    "\n",
    "$M_{\\mathrm{ex}} = -g(mh+Ml)\\sin{(\\beta+\\theta)}$  \n",
    "\n",
    "#### 2.  肘のまわりの上腕筋の力のモーメントのz成分\n",
    "\n",
    "$M_z := M_{\\mathrm{in}} = -M_{\\mathrm{ex}}$\n",
    "\n",
    "#### 3. 上腕筋の力の大きさ  \n",
    "\n",
    "$F = -\\frac{M_{\\mathrm{ex}}}{\\sin{\\theta}}=\\frac{M_{\\mathrm{in}}}{\\sin{\\theta}}=\\frac{M_{z}}{\\sin{\\theta}}$\n",
    "\n",
    "#### 4. 上腕筋の力のベクトルの成分\n",
    "\n",
    "$F_{x} = -F\\sin{\\beta}$  \n",
    "$F_{y} = F\\cos{\\beta}$\n",
    "\n",
    "#### 5. 肘関節の抗力\n",
    "$R_{x} = -F_{x}$  \n",
    "$R_{y} = (m+M)g - F_{y}$\n",
    "\n"
   ]
  },
  {
   "cell_type": "markdown",
   "metadata": {},
   "source": [
    "□１．以下のセルを実行してください。"
   ]
  },
  {
   "cell_type": "code",
   "execution_count": null,
   "metadata": {},
   "outputs": [],
   "source": [
    "import numpy as np\n",
    "import matplotlib.pyplotplot as plt\n",
    "%matplotlib inline\n",
    "\n",
    "g = 9.8"
   ]
  },
  {
   "cell_type": "markdown",
   "metadata": {},
   "source": [
    "> これで，numpyとmatplotlib.pyplotからすべての関数が読み込まれ、それらをそれぞれ、np.関数名(...)（numpy関数の場合）および plt.関数名(...)（matplotlib.pyplotの場合）で使うことができます（<a href=\"./docs/appendix_numpy.html\"><b>Numpyとmatplotlibの簡単公式</b></a>を見てください）。また，重力加速度の値として（グローバル変数として），**g(=9.8)**を使うことができます。  \n",
    "> （%matplotlib inlineはJupyter上に直接グラフを描くためのおまじないです）"
   ]
  },
  {
   "cell_type": "markdown",
   "metadata": {},
   "source": [
    "□２．まず、  \n",
    "\n",
    "**`human_par(w, l)`**  \n",
    "\n",
    "という関数を作りましょう（生体パラメータ関数という意味です）。引数 `w` と `l` はそれぞれ，上記の $w$ と$l$ の値です。戻り値は，リスト `[m, d, h, l]` またはnumpy配列 `array([m, d, h, l])` で、`m`, `d`, `h`, `l` はそれぞれ、上記の $m$, $d$, $h$, $l$ の値とします。"
   ]
  },
  {
   "cell_type": "markdown",
   "metadata": {},
   "source": []
  },
  {
   "cell_type": "markdown",
   "metadata": {},
   "source": [
    "□３．`human_par(w, l)`がうまく動くか、以下のセルで確かめてください。"
   ]
  },
  {
   "cell_type": "code",
   "execution_count": null,
   "metadata": {},
   "outputs": [],
   "source": []
  },
  {
   "cell_type": "markdown",
   "metadata": {},
   "source": [
    "□４．関数名が、**`M_z`**, **`F`**, **`F_x`**, **`F_y`**, **`R_x`**, **`R_y`**, **`R`** の各種関数を順に作っていきましょう。それぞれ上記の、$M_z$, $F$, $F_x$, $F_y$, $R_x$, $R_y$, $R$ の値を返します。  \n",
    "※) 三角関数の角はラジアンに変換しなければなりません。  "
   ]
  },
  {
   "cell_type": "code",
   "execution_count": null,
   "metadata": {},
   "outputs": [],
   "source": [
    "def M_z(par, load, beta, theta):\n",
    "    m = par[0]\n",
    "    h = par[2]\n",
    "    l = par[3]\n",
    "    M = load\n",
    "    return g * (m*h + M*l) * np.sin(np.radians(beta)+np.radians(theta))\n",
    "\n"
   ]
  },
  {
   "cell_type": "markdown",
   "metadata": {},
   "source": [
    "> 上記関数群はグローバル変数 `g` と 生体パラメータ関数 `human_par(w, l)` を使います。ヒントとして、`M_z` 関数だけ書いておきました。引数の `par` は、`human_par` 関数の戻り値と同じリストまたはnumpy配列になっていることに注意しましょう。"
   ]
  },
  {
   "cell_type": "markdown",
   "metadata": {},
   "source": [
    "◻︎５．上記関数群がうまく動くか、以下のセルで確かめてください。（Jupyterの`[+]`ボタンを押して、セルを適当に増やしてください。）"
   ]
  },
  {
   "cell_type": "code",
   "execution_count": null,
   "metadata": {},
   "outputs": [],
   "source": []
  },
  {
   "cell_type": "markdown",
   "metadata": {},
   "source": [
    "◻︎６．◻︎３の関数を利用して、以下のような実行を行う関数(ブロック)：  \n",
    "\n",
    "**```do_calc()```**\n",
    "\n",
    "を作りましょう（```do_calc()``` には、引数も戻り値もありません）。  \n",
    "> ```\n",
    "> 体質量(kg)を入力してください: 62          ←入力  \n",
    "> 前腕長(m)を入力してください : 0.42        ←入力  \n",
    "> 錘質量(kg)を入力してください: 5           ←入力  \n",
    "> 肩屈曲角(degrees)を入力してください: 20    ←入力  \n",
    "> 肘屈曲角(degrees)を入力してください: 85    ←入力 \n",
    "> ------------------  \n",
    "> 【計算結果】  \n",
    "> 肘関節モーメント(z成分)の値(Nm): 22.9599602983                   ←出力  \n",
    "> 上腕筋の力の大きさ(N)         : 439.003116508                   ←出力   \n",
    "> 肘関節抗力の大きさ(N)         : 379.320114369                   ←出力  \n",
    "> 上腕筋の力のベクトル(N)        : [-150.14790883  412.52798908]   ←出力  \n",
    "> 肘関節抗力のベクトル(N)        : [ 150.14790883 -348.33798908]   ←出力  \n",
    "> ```\n",
    "\n",
    "※) ただし、角 $\\beta$，$\\theta$ が上記の角条件を充たさないときには，処理を終えて  \n",
    "\n",
    "> ```\n",
    "> 計算ストップ：不正な角です\n",
    "> ```\n",
    "\n",
    "と表示するようにしておきましょう。\n"
   ]
  },
  {
   "cell_type": "code",
   "execution_count": null,
   "metadata": {},
   "outputs": [],
   "source": []
  },
  {
   "cell_type": "markdown",
   "metadata": {},
   "source": [
    "◻︎７．`do_calc()` がうまく動くか、以下のセルで確かめてください。（Jupyterの[+]ボタンを押して、セルを適当に増やしてください。）"
   ]
  },
  {
   "cell_type": "code",
   "execution_count": null,
   "metadata": {},
   "outputs": [],
   "source": []
  },
  {
   "cell_type": "markdown",
   "metadata": {},
   "source": [
    "◻︎８．次の関数を作ってください：  \n",
    "\n",
    "**`theta_list(x)`**  \n",
    "\n",
    "`theta_list(x)` 関数は、引数 x に適当な角(degrees)を入力したとき，10, 11, 12, ..., xの値 まで 1° ずつのシーケンスをもつnumpy配列を返します。"
   ]
  },
  {
   "cell_type": "code",
   "execution_count": null,
   "metadata": {},
   "outputs": [],
   "source": []
  },
  {
   "cell_type": "markdown",
   "metadata": {},
   "source": [
    "◻︎９．`theta_list(x)` 関数がうまく動作するか、以下のセルで確かめてください。"
   ]
  },
  {
   "cell_type": "code",
   "execution_count": null,
   "metadata": {},
   "outputs": [],
   "source": []
  },
  {
   "cell_type": "markdown",
   "metadata": {},
   "source": [
    "◻︎10．◻︎３と◻︎８の関数を利用して、以下のようなグラフ描画を行う関数(ブロック)：  \n",
    "\n",
    "**`draw_effects()`**  \n",
    "\n",
    "を作りましょう（`draw_effects()` には、引数も戻り値もありません）。`draw_effects()` は必要事項を入力した後、「肘屈曲角-肘関節モーメント」曲線、「肘屈曲角-前腕筋力の大きさ」曲線、「肘屈曲角-肘関節抗力の大きさ」曲線を順に描画します。  \n",
    "\n",
    "※) ただし、角 $\\beta$ が 45° 未満のときは $\\theta$ は 0°〜135° まで動き、角 $\\beta$ が 45° 以上のときは $\\theta$ は 0°〜(179°$-\\beta$) まで動くこととします（そうしないと、角条件を充しません）。  \n",
    "\n",
    "※) グラフ描画は、<a href=\"./docs/appendix_numpy.html\"><b>Numpyとmatplotlibの簡単公式</b></a>の＜公式A-9＞を見てください。\n",
    "\n",
    "> ```\n",
    "> 体質量(kg)を入力してください: 62          ←入力    \n",
    "> 前腕長(m)を入力してください : 0.42        ←入力    \n",
    "> 錘質量(kg)を入力してください: 5           ←入力    \n",
    "> 肩屈曲角(degrees)を入力してください: 20    ←入力    \n",
    "> ```\n",
    ">　（以下は入力後に出力されるグラフ群）\n",
    ">\n",
    "> <img src = \"./docs/fig1.png\">  \n",
    "> <img src = \"./docs/fig2.png\">  \n",
    "> <img src = \"./docs/fig3.png\">  "
   ]
  },
  {
   "cell_type": "code",
   "execution_count": null,
   "metadata": {},
   "outputs": [],
   "source": []
  },
  {
   "cell_type": "markdown",
   "metadata": {},
   "source": [
    "◻︎11．`draw_effects()` がうまく動くか、以下のセルで確かめてください。（Jupyterの[+]ボタンを押して、セルを適当に増やしてください。）"
   ]
  },
  {
   "cell_type": "code",
   "execution_count": null,
   "metadata": {},
   "outputs": [],
   "source": []
  }
 ],
 "metadata": {
  "kernelspec": {
   "display_name": "Python 3",
   "language": "python",
   "name": "python3"
  },
  "language_info": {
   "codemirror_mode": {
    "name": "ipython",
    "version": 3
   },
   "file_extension": ".py",
   "mimetype": "text/x-python",
   "name": "python",
   "nbconvert_exporter": "python",
   "pygments_lexer": "ipython3",
   "version": "3.6.3"
  }
 },
 "nbformat": 4,
 "nbformat_minor": 2
}

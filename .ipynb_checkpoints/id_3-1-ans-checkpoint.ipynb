{
 "cells": [
  {
   "cell_type": "markdown",
   "metadata": {},
   "source": [
    "# 3-1の課題"
   ]
  },
  {
   "cell_type": "markdown",
   "metadata": {},
   "source": [
    "学生番号："
   ]
  },
  {
   "cell_type": "markdown",
   "metadata": {},
   "source": [
    "氏　　名："
   ]
  },
  {
   "cell_type": "markdown",
   "metadata": {},
   "source": [
    "#### ■1．時間に関する次の問いに答えよ："
   ]
  },
  {
   "cell_type": "markdown",
   "metadata": {},
   "source": [
    "□1-1．1時間は何秒かを計算せよ："
   ]
  },
  {
   "cell_type": "code",
   "execution_count": 1,
   "metadata": {},
   "outputs": [
    {
     "data": {
      "text/plain": [
       "3600"
      ]
     },
     "execution_count": 1,
     "metadata": {},
     "output_type": "execute_result"
    }
   ],
   "source": [
    "60 * 60"
   ]
  },
  {
   "cell_type": "markdown",
   "metadata": {},
   "source": [
    "> １分の秒数に１時間の分数(「ふんすう」←「ぶんすう」では**ない**)を掛ければよい。"
   ]
  },
  {
   "cell_type": "markdown",
   "metadata": {},
   "source": [
    "□1-2．前問の結果(1時間の秒数)を`h2s`という変数に代入して，つ`h2s`の内容を`print`関数を使って表示せよ（１つのセル内で行うこと）："
   ]
  },
  {
   "cell_type": "code",
   "execution_count": 2,
   "metadata": {},
   "outputs": [
    {
     "name": "stdout",
     "output_type": "stream",
     "text": [
      "3600\n"
     ]
    }
   ],
   "source": [
    "h2s = 3600\n",
    "print(h2s)"
   ]
  },
  {
   "cell_type": "markdown",
   "metadata": {},
   "source": [
    "> １行目に代入式を入力し，［Enter］を押して２行目に移り，２行目に`print(h2s)`を入力して，実行（［Shift］＋［Enter］）すればよい。  "
   ]
  },
  {
   "cell_type": "markdown",
   "metadata": {},
   "source": [
    "□1-3． 1日の秒数を1-2の`h2s`を使って新たな変数`d2s`に代入し，`d2s`の内容を`print`関数を使って表示せよ（１つのセルで行うこと）："
   ]
  },
  {
   "cell_type": "code",
   "execution_count": 3,
   "metadata": {},
   "outputs": [
    {
     "name": "stdout",
     "output_type": "stream",
     "text": [
      "86400\n"
     ]
    }
   ],
   "source": [
    "d2s = h2s * 24\n",
    "print(d2s)"
   ]
  },
  {
   "cell_type": "markdown",
   "metadata": {},
   "source": [
    "□1-4． １年(うるう年を除く)の秒数を1-3の`d2s`を使って新たな変数`cy2s`に代入し，`cy2s`の内容を`print`関数を使って表示せよ（１つのセルで行うこと）："
   ]
  },
  {
   "cell_type": "code",
   "execution_count": 4,
   "metadata": {},
   "outputs": [
    {
     "name": "stdout",
     "output_type": "stream",
     "text": [
      "31536000\n"
     ]
    }
   ],
   "source": [
    "cy2s = d2s * 365\n",
    "print(cy2s)"
   ]
  },
  {
   "cell_type": "markdown",
   "metadata": {},
   "source": [
    "□1-5．うるう年を秒数を1-3の`d2s`を使って新たな変数`ly2s`に代入し，`ly2s`の内容を`print`関数を使って表示せよ（１つのセルで行うこと）："
   ]
  },
  {
   "cell_type": "code",
   "execution_count": 5,
   "metadata": {},
   "outputs": [
    {
     "name": "stdout",
     "output_type": "stream",
     "text": [
      "31622400\n"
     ]
    }
   ],
   "source": [
    "ly2s = d2s * 366\n",
    "print(ly2s)"
   ]
  },
  {
   "cell_type": "markdown",
   "metadata": {},
   "source": [
    "□1-6．変数`cy2s`と`ly2s`を使って，4年は何秒かを計算し表示せよ："
   ]
  },
  {
   "cell_type": "code",
   "execution_count": 6,
   "metadata": {},
   "outputs": [
    {
     "data": {
      "text/plain": [
       "126230400"
      ]
     },
     "execution_count": 6,
     "metadata": {},
     "output_type": "execute_result"
    }
   ],
   "source": [
    "cy2s * 3 + ly2s"
   ]
  },
  {
   "cell_type": "markdown",
   "metadata": {},
   "source": [
    "#### ■2．次の問いに答えよ："
   ]
  },
  {
   "cell_type": "markdown",
   "metadata": {},
   "source": [
    "□2-1 . 次のコードを実行し結果を確かめよ："
   ]
  },
  {
   "cell_type": "code",
   "execution_count": 7,
   "metadata": {},
   "outputs": [
    {
     "name": "stdout",
     "output_type": "stream",
     "text": [
      "13\n"
     ]
    }
   ],
   "source": [
    "x = 0                #(1)\n",
    "x = x**2 + x + 1    #(2)\n",
    "x = x**2 + x + 1    #(3)\n",
    "x = x**2 + x + 1    #(4)\n",
    "print(x)             #(5)"
   ]
  },
  {
   "cell_type": "markdown",
   "metadata": {},
   "source": [
    "> シャープ（*`#`*）記号の後ろに続く文字列は，実行時に無視される。したがって，*`#`*の後ろの*`(1)`〜`(5)`*は式番号とみなし，以下の問題に使うこと。"
   ]
  },
  {
   "cell_type": "markdown",
   "metadata": {},
   "source": [
    "□2-2. なぜ2-1のような結果が出力されたのかを，下のマークダウンセルに具体的に説明せよ："
   ]
  },
  {
   "cell_type": "markdown",
   "metadata": {},
   "source": [
    "代入演算子（＝）の右側が先に計算される仕組みのため、数学的には不自然な式もPythonでは成り立つ。\n",
    "\n",
    "1) x=0を代入する。  \n",
    "0^2+0+1=1 -> x=1  \n",
    "2) x=1を代入する。  \n",
    "1^2+1+1=3 -> x=3  \n",
    "3) x=3を代入する。  \n",
    "3^2+3+1=13 -> x=13\n",
    "  \n",
    "よって、print(x) は13になる。"
   ]
  },
  {
   "cell_type": "markdown",
   "metadata": {},
   "source": [
    "#### ■3. 次の問いに答えよ："
   ]
  },
  {
   "cell_type": "markdown",
   "metadata": {},
   "source": [
    "□3-1. 次のコードを実行し結果を確かめよ："
   ]
  },
  {
   "cell_type": "code",
   "execution_count": 1,
   "metadata": {},
   "outputs": [
    {
     "name": "stdout",
     "output_type": "stream",
     "text": [
      "60\n"
     ]
    }
   ],
   "source": [
    "x1 = 0\n",
    "x1 += 20\n",
    "x1 += 20\n",
    "x1 += 20\n",
    "print(x1)"
   ]
  },
  {
   "cell_type": "markdown",
   "metadata": {},
   "source": [
    "□3-2. なぜ3-1のような結果が出力されたのかを，下のマークダウンセルに具体的に説明せよ："
   ]
  },
  {
   "cell_type": "markdown",
   "metadata": {},
   "source": [
    "（ここをダブルクリックして述べよ）"
   ]
  },
  {
   "cell_type": "markdown",
   "metadata": {},
   "source": [
    "□3-3. 次のコードを実行し結果を確かめよ："
   ]
  },
  {
   "cell_type": "code",
   "execution_count": 2,
   "metadata": {},
   "outputs": [
    {
     "name": "stdout",
     "output_type": "stream",
     "text": [
      "0\n"
     ]
    }
   ],
   "source": [
    "x2 = x1\n",
    "x2 -= 20\n",
    "x2 -= 20\n",
    "x2 -= 20\n",
    "print(x2)"
   ]
  },
  {
   "cell_type": "markdown",
   "metadata": {},
   "source": [
    "□3-4. なぜ3-3のような結果が出力されたのかを，下のマークダウンセルに具体的に説明せよ："
   ]
  },
  {
   "cell_type": "markdown",
   "metadata": {},
   "source": [
    "（ここをダブルクリックして述べよ）"
   ]
  },
  {
   "cell_type": "markdown",
   "metadata": {},
   "source": [
    "□3-5. 次のコードを実行し結果を確かめよ："
   ]
  },
  {
   "cell_type": "code",
   "execution_count": 3,
   "metadata": {},
   "outputs": [
    {
     "name": "stdout",
     "output_type": "stream",
     "text": [
      "8\n"
     ]
    }
   ],
   "source": [
    "x3 = 1\n",
    "x3 *= 2\n",
    "x3 *= 2\n",
    "x3 *= 2\n",
    "print(x3)"
   ]
  },
  {
   "cell_type": "markdown",
   "metadata": {},
   "source": [
    "□3-6. なぜ3-5のような結果が出力されたのかを，下のマークダウンセルに具体的に説明せよ："
   ]
  },
  {
   "cell_type": "markdown",
   "metadata": {},
   "source": [
    "（ここをダブルクリックして述べよ）"
   ]
  },
  {
   "cell_type": "markdown",
   "metadata": {},
   "source": [
    "□3-7. 次のコードを実行し結果を確かめよ："
   ]
  },
  {
   "cell_type": "code",
   "execution_count": 4,
   "metadata": {},
   "outputs": [
    {
     "name": "stdout",
     "output_type": "stream",
     "text": [
      "1.0\n"
     ]
    }
   ],
   "source": [
    "x4 = x3\n",
    "x4 /= 2\n",
    "x4 /= 2\n",
    "x4 /= 2\n",
    "print(x4)"
   ]
  },
  {
   "cell_type": "markdown",
   "metadata": {},
   "source": [
    "□3-8. なぜ3-7のような結果が出力されたのかを，下のマークダウンセルに具体的に説明せよ："
   ]
  },
  {
   "cell_type": "markdown",
   "metadata": {},
   "source": [
    "（ここをダブルクリックして述べよ）"
   ]
  },
  {
   "cell_type": "code",
   "execution_count": null,
   "metadata": {},
   "outputs": [],
   "source": []
  }
 ],
 "metadata": {
  "kernelspec": {
   "display_name": "Python 3 (ipykernel)",
   "language": "python",
   "name": "python3"
  },
  "language_info": {
   "codemirror_mode": {
    "name": "ipython",
    "version": 3
   },
   "file_extension": ".py",
   "mimetype": "text/x-python",
   "name": "python",
   "nbconvert_exporter": "python",
   "pygments_lexer": "ipython3",
   "version": "3.11.5"
  }
 },
 "nbformat": 4,
 "nbformat_minor": 4
}

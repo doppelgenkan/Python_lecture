{
 "cells": [
  {
   "cell_type": "markdown",
   "id": "c0bbed10-791a-44d2-b9b5-abd5830c176c",
   "metadata": {},
   "source": [
    "# 3-2の課題"
   ]
  },
  {
   "cell_type": "markdown",
   "id": "8f475ba4-d4ff-441b-8be7-965aa3332407",
   "metadata": {},
   "source": [
    "学籍番号："
   ]
  },
  {
   "cell_type": "markdown",
   "id": "cde14e09-494e-442a-8be8-f2c4aaec2ad1",
   "metadata": {},
   "source": [
    "氏　　名："
   ]
  },
  {
   "cell_type": "markdown",
   "id": "1467a54f-1e85-4db3-b625-057f9858ebf5",
   "metadata": {},
   "source": [
    "#### ■1. 次の関数を作り，引数を与えて実行せよ。\n",
    "\n",
    "□1-1. ３辺の長さが与えられたときの三角形の面積を返す関数を `triangle_area` という関数名で作成せよ。ただし，以下のヘロンの公式を参考にするとよい。\n",
    "\n",
    "> 三角形$\\mathrm{ABC}$の各辺の長さを$a$, $b$, $c$とする。このとき，\n",
    "$$\n",
    "s = \\frac{a + b + c}{2}\\tag{1}\n",
    "$$\n",
    "とすると，三角形$\\mathrm{ABC}$の面積$S$は，\n",
    "$$\n",
    "S = \\sqrt{s(s-a)(s-b)(s-c)}\\tag{2}\n",
    "$$\n",
    "で求められる（ヘロンの公式）。\n",
    "\n",
    "**ヒント1**：ある値の平方根は\n",
    "```\n",
    "import math\n",
    "```\n",
    "で`math`モジュールをインポートして，`math.sqrt(値)`で求められる。\n",
    "\n",
    "**ヒント2**：`def triangle_area(a, b, c):`と`return`文の間の行に変数`s`で，(1)の$s$（スモールエス）を求める計算式を書き，`return `の後ろに`s`, `a`, `b`, `c`とヒント1の`math.sqrt`関数を用いて(2)の右辺の計算式を書く。"
   ]
  },
  {
   "cell_type": "code",
   "execution_count": 1,
   "id": "b9f77498-a3d8-429d-9b5e-41b41f110a2b",
   "metadata": {},
   "outputs": [],
   "source": [
    "import math\n",
    "\n",
    "def triangle_area(a, b, c):\n",
    "    s = (a + b + c) / 2\n",
    "    return math.sqrt( s * (s - a) * (s - b) * (s - c) )"
   ]
  },
  {
   "cell_type": "markdown",
   "id": "924c2669-f896-4c2f-94c6-b8527aeff40b",
   "metadata": {},
   "source": [
    "□1-2. ３辺の長さが2の正三角形の面積を求めよ。"
   ]
  },
  {
   "cell_type": "code",
   "execution_count": 2,
   "id": "c24b961e-032b-4c97-9614-1b57262800e8",
   "metadata": {},
   "outputs": [
    {
     "data": {
      "text/plain": [
       "1.7320508075688772"
      ]
     },
     "execution_count": 2,
     "metadata": {},
     "output_type": "execute_result"
    }
   ],
   "source": [
    "triangle_area(2, 2 ,2)"
   ]
  },
  {
   "cell_type": "markdown",
   "id": "b69c6405-4e9b-431e-bd12-7df1abe0f7ad",
   "metadata": {},
   "source": [
    "> $\\sqrt{3}$の小数点表示の値と同じになる。もしならなければ，1-1で作成したコードが間違っている。"
   ]
  },
  {
   "cell_type": "markdown",
   "id": "26b8471e-3c90-4efa-b8aa-2357ce23af58",
   "metadata": {},
   "source": [
    "□1-3. 辺の長さが11, 12, 13の三角形の面積を求めよ。"
   ]
  },
  {
   "cell_type": "code",
   "execution_count": 3,
   "id": "cbd77bd0-563d-4953-88f6-7e4f7b9da049",
   "metadata": {},
   "outputs": [
    {
     "data": {
      "text/plain": [
       "61.48170459575759"
      ]
     },
     "execution_count": 3,
     "metadata": {},
     "output_type": "execute_result"
    }
   ],
   "source": [
    "triangle_area(11, 12, 13)"
   ]
  },
  {
   "cell_type": "markdown",
   "id": "ca1056f8-f1af-4c2f-9b1a-b32e169f4163",
   "metadata": {},
   "source": [
    "□1-4. 引数を1, 2, 5として，`triangle_area`関数を実行してみよ。"
   ]
  },
  {
   "cell_type": "code",
   "execution_count": 4,
   "id": "80978d3f-43a5-4f3d-8c3d-02384ac9c2d8",
   "metadata": {},
   "outputs": [
    {
     "ename": "ValueError",
     "evalue": "math domain error",
     "output_type": "error",
     "traceback": [
      "\u001b[0;31m---------------------------------------------------------------------------\u001b[0m",
      "\u001b[0;31mValueError\u001b[0m                                Traceback (most recent call last)",
      "Cell \u001b[0;32mIn[4], line 1\u001b[0m\n\u001b[0;32m----> 1\u001b[0m triangle_area(\u001b[38;5;241m1\u001b[39m, \u001b[38;5;241m2\u001b[39m, \u001b[38;5;241m5\u001b[39m)\n",
      "Cell \u001b[0;32mIn[1], line 5\u001b[0m, in \u001b[0;36mtriangle_area\u001b[0;34m(a, b, c)\u001b[0m\n\u001b[1;32m      3\u001b[0m \u001b[38;5;28;01mdef\u001b[39;00m \u001b[38;5;21mtriangle_area\u001b[39m(a, b, c):\n\u001b[1;32m      4\u001b[0m     s \u001b[38;5;241m=\u001b[39m (a \u001b[38;5;241m+\u001b[39m b \u001b[38;5;241m+\u001b[39m c) \u001b[38;5;241m/\u001b[39m \u001b[38;5;241m2\u001b[39m\n\u001b[0;32m----> 5\u001b[0m     \u001b[38;5;28;01mreturn\u001b[39;00m math\u001b[38;5;241m.\u001b[39msqrt( s \u001b[38;5;241m*\u001b[39m (s \u001b[38;5;241m-\u001b[39m a) \u001b[38;5;241m*\u001b[39m (s \u001b[38;5;241m-\u001b[39m b) \u001b[38;5;241m*\u001b[39m (s \u001b[38;5;241m-\u001b[39m c) )\n",
      "\u001b[0;31mValueError\u001b[0m: math domain error"
     ]
    }
   ],
   "source": [
    "triangle_area(1, 2, 5)"
   ]
  },
  {
   "cell_type": "markdown",
   "id": "79db1e73-100e-4e01-aab8-0af5b2478aa5",
   "metadata": {},
   "source": [
    "□1-5. 1-4の結果はエラーになる（コードが間違っていないにもかかわらずだ）。なぜか？ 下のセルに理由を述べよ（プログラムの観点からでもよいし，三角形の幾何の観点からでもよい）。"
   ]
  },
  {
   "cell_type": "markdown",
   "id": "4153bf36-7f56-421b-b5e5-93b212a0814e",
   "metadata": {},
   "source": [
    "（ダブルクリックしてここに入力）"
   ]
  },
  {
   "cell_type": "code",
   "execution_count": null,
   "id": "b82d3f39-790e-46ac-b8aa-c5d5d66fc282",
   "metadata": {},
   "outputs": [],
   "source": [
    "triangle_area()"
   ]
  }
 ],
 "metadata": {
  "kernelspec": {
   "display_name": "Python 3 (ipykernel)",
   "language": "python",
   "name": "python3"
  },
  "language_info": {
   "codemirror_mode": {
    "name": "ipython",
    "version": 3
   },
   "file_extension": ".py",
   "mimetype": "text/x-python",
   "name": "python",
   "nbconvert_exporter": "python",
   "pygments_lexer": "ipython3",
   "version": "3.11.5"
  }
 },
 "nbformat": 4,
 "nbformat_minor": 5
}

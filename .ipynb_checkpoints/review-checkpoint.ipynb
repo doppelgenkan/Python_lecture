{
 "cells": [
  {
   "cell_type": "markdown",
   "metadata": {},
   "source": [
    "# 前期の復習課題  \n",
    "今日は前期の復習として，`for`文，`if`文，リスト，文字列等を用いたプログラムを組んでいただく。  \n",
    "\n",
    "円周率は無理数であって，（循環小数でない）無限小数である。円周率の小数第100万位(有効桁数1000001)までの中に，一桁の数0〜9が幾つ出てくるかを数えるプログラムを作成し，結果を表示する。このプログラムは前期の知識で作成できる。"
   ]
  },
  {
   "cell_type": "markdown",
   "metadata": {},
   "source": [
    "## 0. 準備（データ作成）"
   ]
  },
  {
   "cell_type": "markdown",
   "metadata": {},
   "source": [
    "**▫︎0-1.** 円周率$\\pi$を任意の小数位まで表示するために必要なモジュールをインポートする。それは，`sympy`というモジュールに入っているので，まず`sympy`をインポート(**教科書p.119を確認**せよ)しなさい。"
   ]
  },
  {
   "cell_type": "code",
   "execution_count": null,
   "metadata": {},
   "outputs": [],
   "source": []
  },
  {
   "cell_type": "markdown",
   "metadata": {},
   "source": [
    "**◽︎0-2.** 円周率は`sympy.pi`求めらる。これを実行しなさい："
   ]
  },
  {
   "cell_type": "code",
   "execution_count": null,
   "metadata": {},
   "outputs": [],
   "source": []
  },
  {
   "cell_type": "markdown",
   "metadata": {},
   "source": [
    "> 無理数なので，結果は数値で表示されず$\\pi$という記号で出てくる。これはこれでよろしい。"
   ]
  },
  {
   "cell_type": "markdown",
   "metadata": {},
   "source": [
    "**▫︎0-3.** 無理数を含む任意の数を有効桁数で求めるには，  \n",
    "\n",
    "**```\n",
    "sympy.N(数, 有効桁数)\n",
    "```**  \n",
    "\n",
    "という関数を使う。したがって，円周率を小数第100位(有効桁数101)まで求めると："
   ]
  },
  {
   "cell_type": "code",
   "execution_count": null,
   "metadata": {},
   "outputs": [],
   "source": []
  },
  {
   "cell_type": "markdown",
   "metadata": {},
   "source": [
    "> ただし，上の数は小数第101位を四捨五入した値である。"
   ]
  },
  {
   "cell_type": "markdown",
   "metadata": {},
   "source": [
    "**▫︎0-4.** さて，円周率の小数第100万位までの中に，各一桁の整数がいくつあるかを数えるために，目的の数を文字列にしておく。文字列なら，一つひとつの文字を取り出すことができるからである。円周率の小数第100万位（有効桁数1000001）までの数を文字列にし，不必要な文字（今の場合は'.'）を取り除いた文字列を`pi_str`という変数に格納しなさい（数字を文字列に変換するには`str`関数を用いる(**教科書p.35**を確認)）："
   ]
  },
  {
   "cell_type": "markdown",
   "metadata": {},
   "source": [
    "> ※) 円周率の文字列3.14159265358979323846…からピリオドを取り除くために，文字列オブジェクトのメソッド`replace(…)`が使える。`replace`メソッドの一般的使用法は  \n",
    ">\n",
    "> **```\n",
    "> 文字列.replace('置き換えられる文字', '置き換える文字')\n",
    "> ```**  \n",
    ">\n",
    ">で，こうしたとき`文字列`オブジェクトの中から`'置き換える文字'`を探し出してそれを`'置き換える文字'`に直す。  \n",
    ">　したがって，有効桁数1000001の円周率を文字列に直し，それに`replace`メソッドをバインドして，引数の`'置き換えられる文字'`に`'.'`を`'置き換える文字'`に`''`を指定すればよい。"
   ]
  },
  {
   "cell_type": "code",
   "execution_count": null,
   "metadata": {},
   "outputs": [],
   "source": []
  },
  {
   "cell_type": "markdown",
   "metadata": {},
   "source": [
    "**▫︎0-5.** 文字列変数`pi_str`の内容を1000文字分だけ取り出してみよう。これはスライシング（リストにも適用できる）といって，`pi_str[:1000]`(**スライス**)$^*$で実行できる：  \n",
    "> $*$ 前期でやっているようだが，例えば，<a href=\"https://qiita.com/tanuk1647/items/276d2be36f5abb8ea52e\">【Python】スライス操作についてまとめ</a>および<a href=\"https://qiita.com/ycctw1443/items/03f99f3f72a797fdcbf6\">Pythonのスライスについて</a>等を参照せよ。"
   ]
  },
  {
   "cell_type": "code",
   "execution_count": null,
   "metadata": {},
   "outputs": [],
   "source": []
  },
  {
   "cell_type": "markdown",
   "metadata": {},
   "source": [
    "## 1. コテコテの手続き型プログラム"
   ]
  },
  {
   "cell_type": "markdown",
   "metadata": {},
   "source": [
    "`for`分の中で，文字列はリストと同じように扱えることに注意し，下の動作制御表とフローチャートにしたがって，円周率の小数第1000000位（有効桁数1000001）までに0〜9の数がいくつあるかカウントして以下のような出力を表示しなさい（`%%time`は計算時間を計測するマジックコマンドで消してはならない）：  \n",
    "```\n",
    "0の個数：99959\n",
    "1の個数：99758\n",
    "・・・・・\n",
    "9の個数：100106\n",
    "```  \n",
    "【動作制御表】\n",
    "\n",
    "1. `i`を`0`〜`9`の整数を順に入れる変数とし，この行以下を「`i`の`for`ブロック」とする。\n",
    "2.  カウンター（これに i の出現個数が入る）`cnt`を`0`で初期化する。\n",
    "3. `j`を`pi_str`の左から順に取った整数文字を入れる変数とし，この行以下〜最後の行の１つ手前までを「`j`の`for`ブロック」とする。\n",
    "4. `pi_str`の整数文字`j`が`0`〜`9`の整数文字`str(i)`に等しいとき，カウンター`cnt`に`1`を加えていく(**教科書p.30の最後の行からp.31の前半**を確認せよ)。それ以外は何もしない。「`j`の`for`ブロック」はここまで。\n",
    "5. 整数`i`のカウンター`cnt`の内容を出力。「`i`の`for`ブロック」はここまで。\n",
    "\n",
    "【フローチャート】  \n",
    "\n",
    "<img src=\"./figures/flow1.png\">"
   ]
  },
  {
   "cell_type": "code",
   "execution_count": null,
   "metadata": {},
   "outputs": [],
   "source": [
    "%%time\n"
   ]
  },
  {
   "cell_type": "markdown",
   "metadata": {},
   "source": [
    "## 2. よりPython風のプログラム  \n",
    "よりPythonのプログラムのコツは：\n",
    "\n",
    "- 多重ループ（`for`や`while`の入れ子）は極力避ける。\n",
    "- 不必要な`if`文は避ける。\n",
    "- リストを活用する。\n",
    "\n",
    "である。こうすることによって，可読性に優れたより処理の速いプログラムがかける。実は**セクション1**と同様な結果を出すプログラムを，上記３つの事項を心がけることによって，よりPythonに適したプログラムに改変できる。下の動作制御表とフローチャートにしたがって，それを行いなさい：  \n",
    "\n",
    "【動作制御表】  \n",
    "1. `0`〜`9`の出現個数が入るカウンターリスト`cnt_list`を`[0,0,0,0,0,0,0,0,0,0]`で初期化する。\n",
    "2. `i`を`pi_str`の左から順に取った整数文字を入れる変数とし，次の行のまでを「`i`の`for`ブロック」とする。\n",
    "3. `cnt_list`の`int(i)`(`i`は整数文字なので整数に変換しておく)成分に`1`を加える。「`i`の`for`ブロック」はここまで。\n",
    "4. `j`を`0`〜`9`の整数を順に入れる変数とし，次の行までを「`j`の`for`ブロック」とする。\n",
    "5. 整数`j`のカウンター`cnt`の内容を出力。「`j`の`for`ブロック」はここまで。  \n",
    "\n",
    "【フローチャート】  \n",
    "\n",
    "<img src=\"figures/flow2.png\">"
   ]
  },
  {
   "cell_type": "code",
   "execution_count": null,
   "metadata": {},
   "outputs": [],
   "source": [
    "%%time\n"
   ]
  },
  {
   "cell_type": "markdown",
   "metadata": {},
   "source": [
    "## 3. もっとPython的なプログラム  \n",
    "セクション2のプログラムは，セクション1のプログラムより可読性が高く速かった。しかし，同じ処理をまだまだPython的に改良することができる。それは，セクション2に記された**コツ**の他に，\n",
    "\n",
    "- できるだけ**組み込み関数**や**組み込みメソッド**を使う。  \n",
    "\n",
    "ということだ。  \n",
    "\n",
    "実は文字列やリストには`count`というメソッドがあって(前期で学んだはず)，それは対象の文字列やリストに中に，指定の文字(列)や数値がどれだけあるかをカウントする。例えば， \n",
    "\n",
    "**```\n",
    "対象文字列.count(指定文字列)\n",
    "```**\n",
    "\n",
    "とすると，`対象文字列`の中に`指定文字列`がいくつあるかの結果を返す。このメソッドを使って，セクション1または2のプログラムを書き直しなさい。 \n",
    "> 例えば<a href=\"https://hibiki-press.tech/learn_prog/python/count/103\">[Python] 特定の文字や文字列の出現回数を数える（count）</a>を見よ。\n",
    "\n",
    "【動作制御表】\n",
    "1. `i`を0〜9の整数を順に入れる変数とし，次の行までを「`i`の`for`ブロック」とする。\n",
    "2. `pi_str`にcountメソッドを引数`str(i)`でバインドさせて整数`i`が何個あるかをカウントして表示。「`i`の`for`ブロック」はここまで。  \n",
    "\n",
    "【フローチャート】  \n",
    "\n",
    "<img src=\"figures/flow3.png\">"
   ]
  },
  {
   "cell_type": "code",
   "execution_count": null,
   "metadata": {},
   "outputs": [],
   "source": [
    "%%time\n"
   ]
  },
  {
   "cell_type": "code",
   "execution_count": null,
   "metadata": {},
   "outputs": [],
   "source": []
  }
 ],
 "metadata": {
  "kernelspec": {
   "display_name": "Python 3",
   "language": "python",
   "name": "python3"
  },
  "language_info": {
   "codemirror_mode": {
    "name": "ipython",
    "version": 3
   },
   "file_extension": ".py",
   "mimetype": "text/x-python",
   "name": "python",
   "nbconvert_exporter": "python",
   "pygments_lexer": "ipython3",
   "version": "3.7.3"
  }
 },
 "nbformat": 4,
 "nbformat_minor": 4
}

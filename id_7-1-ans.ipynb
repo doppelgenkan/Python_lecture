{
 "cells": [
  {
   "cell_type": "markdown",
   "metadata": {},
   "source": [
    "# 課題7.1"
   ]
  },
  {
   "cell_type": "markdown",
   "metadata": {},
   "source": [
    "*****"
   ]
  },
  {
   "cell_type": "markdown",
   "metadata": {},
   "source": [
    "学籍番号："
   ]
  },
  {
   "cell_type": "markdown",
   "metadata": {},
   "source": [
    "氏　　名："
   ]
  },
  {
   "cell_type": "markdown",
   "metadata": {},
   "source": [
    "****"
   ]
  },
  {
   "cell_type": "markdown",
   "metadata": {},
   "source": [
    "**■問題：** 次の手順にしたがって、課題を完成せよ。"
   ]
  },
  {
   "cell_type": "markdown",
   "metadata": {},
   "source": [
    "□1. `turtle`モジュールを`ttl`として、`random`モジュールを`rd`としてインポートせよ："
   ]
  },
  {
   "cell_type": "code",
   "execution_count": 1,
   "metadata": {},
   "outputs": [],
   "source": [
    "import turtle as ttl\n",
    "import random as rd"
   ]
  },
  {
   "cell_type": "markdown",
   "metadata": {},
   "source": [
    "□2. `Screen`オブジェクト`s`と、３つの`Turtle`オブジェクト`kame1`, `kame2`, `kame3`を生成せよ:"
   ]
  },
  {
   "cell_type": "code",
   "execution_count": 2,
   "metadata": {},
   "outputs": [],
   "source": [
    "s = ttl.Screen()\n",
    "kame1 = ttl.Turtle()\n",
    "kame2 = ttl.Turtle()\n",
    "kame3 = ttl.Turtle()"
   ]
  },
  {
   "cell_type": "markdown",
   "metadata": {},
   "source": [
    "□3. `s`に`bgcolor`メソッドを作用させてキャンバスをpinkにし、さらに`setup`メソッドでキャンバスの大きさを600×600(ピクセル)とせよ："
   ]
  },
  {
   "cell_type": "code",
   "execution_count": 3,
   "metadata": {},
   "outputs": [],
   "source": [
    "s.bgcolor('pink')\n",
    "s.setup(600, 600)"
   ]
  },
  {
   "cell_type": "markdown",
   "metadata": {},
   "source": [
    "□4. `kame1`, `kame2`, `kame3`にshapeメソッドを作用させてカメの形にし、さらに`color`メソッドでそれぞれのカメの色をgreen, blue, redにせよ："
   ]
  },
  {
   "cell_type": "code",
   "execution_count": 4,
   "metadata": {},
   "outputs": [],
   "source": [
    "kame1.shape('turtle')\n",
    "kame2.shape('turtle')\n",
    "kame3.shape('turtle')\n",
    "kame1.color('green')\n",
    "kame2.color('blue')\n",
    "kame3.color('red')"
   ]
  },
  {
   "cell_type": "markdown",
   "metadata": {},
   "source": [
    "□5. 次の`kame1`, `kame2`, `kame3`がキャンバス上を次のように動くプログラムを作れ：  \n",
    "1. `kame1`は0°～180°ランダムに右回転した後、10～50ピクセルのランダムな間隔で前方に進む。\n",
    "2. `kame2`は0°～180°ランダムに左回転した後、10～50ピクセルのランダムな間隔で前方に進む。\n",
    "3. `kame3`は0°～90°ランダムに右回転した後0°～90°ランダムに左回転し、10～25ピクセルのランダムな間隔で前方に進む。\n",
    "4. 上記1～3を30回繰り返す。"
   ]
  },
  {
   "cell_type": "code",
   "execution_count": 5,
   "metadata": {},
   "outputs": [],
   "source": [
    "for _ in range(30):\n",
    "    kame1.rt(rd.randint(0, 180))\n",
    "    kame1.fd(rd.randint(10, 50))\n",
    "    kame2.lt(rd.randint(0, 180))\n",
    "    kame2.fd(rd.randint(10, 50))\n",
    "    kame3.rt(rd.randint(0, 90))\n",
    "    kame3.lt(rd.randint(0, 90))\n",
    "    kame3.fd(rd.randint(10, 25))"
   ]
  },
  {
   "cell_type": "markdown",
   "metadata": {},
   "source": [
    "□6. 前問5で作成したプログラムを実行し、実行結果のキャンバスのスクリーンを学生番号_7-1.pngというファイル名で保存せよ。\n",
    "> 【スクリーンショットの撮り方】  \n",
    "> (1)［スタートメニュー］→［ Windowsアクセサリ］→［Snipping Tool］を起動。  \n",
    "> (2)「Snipping Tool」ダイアログボックスの［新規作成(N)］をクリック。   \n",
    "> (3) キャプチャーしたい範囲を選択（やり直す場合は［Esc］キーを押す）。  \n",
    "> (4)「Snipping Tool」ダイアログボックスの［ファイル(A)］メニュー→［名前を付けて保存(A)...］をクリック。  \n",
    "> (5)「名前を付けて保存」ダイアログボックスでキャプチャーを保存したいフォルダを選択し、ファイル名を入力して、［保存］ボタンをクリック。"
   ]
  },
  {
   "cell_type": "code",
   "execution_count": null,
   "metadata": {},
   "outputs": [],
   "source": []
  }
 ],
 "metadata": {
  "kernelspec": {
   "display_name": "Python 3",
   "language": "python",
   "name": "python3"
  },
  "language_info": {
   "codemirror_mode": {
    "name": "ipython",
    "version": 3
   },
   "file_extension": ".py",
   "mimetype": "text/x-python",
   "name": "python",
   "nbconvert_exporter": "python",
   "pygments_lexer": "ipython3",
   "version": "3.6.5"
  }
 },
 "nbformat": 4,
 "nbformat_minor": 2
}

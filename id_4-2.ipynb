{
 "cells": [
  {
   "cell_type": "markdown",
   "metadata": {},
   "source": [
    "# 課題4.2  \n",
    "***"
   ]
  },
  {
   "cell_type": "markdown",
   "metadata": {},
   "source": [
    "学籍番号："
   ]
  },
  {
   "cell_type": "markdown",
   "metadata": {},
   "source": [
    "氏　　名："
   ]
  },
  {
   "cell_type": "markdown",
   "metadata": {},
   "source": [
    "***  \n",
    "課題作成に必要なモジュールと関数を説明しておく：  \n",
    "***\n",
    "\n",
    "**＜公式4-2-1＞**  \n",
    "\n",
    "**`import random`**  \n",
    "\n",
    "**意味：**各種**乱数**を生成するモジュール**`random`**をインポートする。  \n",
    "> ※) 上の形式で**`random`**モジュールをインポートした場合、そのモジュール内の関数を呼び出すときは、  \n",
    "> **`random.関数名(引数1, 引数2, ...)` **  \n",
    "> とする。\n",
    "***"
   ]
  },
  {
   "cell_type": "markdown",
   "metadata": {},
   "source": [
    "***\n",
    "**＜公式4-2-2＞**  \n",
    "\n",
    "**`random.randint(m, n)`**  \n",
    "\n",
    "**意味：** **`m`**と**`n`**(`m < n`)を整数とし、**`m`から`n`の整数をランダムに返す。**\n",
    "***"
   ]
  },
  {
   "cell_type": "markdown",
   "metadata": {},
   "source": [
    "＜例＞ 1～10までの整数をランダムに出したいとき：\n",
    "> `In [1]:  import random`  \n",
    ">  \n",
    "> `In [2]:  random.randint(1,10)`  \n",
    "> `Out[2]:  5`  \n",
    ">  \n",
    "> `In [3]:  random.randint(1,10)`  \n",
    "> `Out[3]:  1`  \n",
    ">  \n",
    "> `In [4]:  random.randint(1,10)`  \n",
    "> `Out[4]:  8`  "
   ]
  },
  {
   "cell_type": "markdown",
   "metadata": {},
   "source": [
    "**■問題：**`turtle`モジュールの`Turtle()`クラスから`kame`というオブジェクトを作って、指定歩数分だけ、ランダムな方向にランダムに連続的に直線を引く(`kame`が歩く)プログラムを、以下の手順で作成せよ。ただし、描かれる一直線は10～50ピクセルとする。"
   ]
  },
  {
   "cell_type": "markdown",
   "metadata": {},
   "source": [
    "□1. `turtle`モジュールと`random`モジュールをインポートし、`turtle`モジュールの`Turtle()`クラスから`kame`という名のオブジェクト(インスタンス)を生成し、`kame`オブジェクトをカメの形にせよ："
   ]
  },
  {
   "cell_type": "code",
   "execution_count": null,
   "metadata": {},
   "outputs": [],
   "source": []
  },
  {
   "cell_type": "markdown",
   "metadata": {},
   "source": [
    "□2. このカメ`kame`は歩き出す(前方に進む)前に、右を向いて左を向いてからまっすぐ前方に進むという癖がある(後方には進めない！)。ただし、右または左を向く角の範囲は0°～180°の勝手な角度で、前に進むときは10～50歩(ピクセル)の勝手な歩数である。つまり、歩き出す前にまず右に(0°～180°の)勝手な角度で回転し、つぎに左に(0°～180°の)勝手な角度で回転し、その後(10～50歩の)勝手な歩数直進する。これを指定回数繰り返すのである。 \n",
    "\n",
    "このカメ`kame`を連続して指定回数歩かせるプログラムを作成せよ。ただし、最初に  \n",
    "```\n",
    "連続で何回歩かせますか？：\n",
    "```\n",
    "というプロンプトが表示され、例えば  \n",
    "```\n",
    "連続で何回歩かせますか？：123\n",
    "```\n",
    "と(123と)入力すると、123回連続で歩かせるようにプログラムを組め。また、このプログラム(が書かれているセルをクリックして)実行(＝[Shift]+[Enter])をしたとき、以前引かれた線を消去し、カメ`kame`を元の位置に戻すようにリセットしておくこと。  \n",
    "> **ヒント：**`kame`に作用させる、右回転や左回転メソッド(の括弧の中)には公式4-2-2の関数を使って0～180の整数をランダムに発生させるようにし、前方直進メソッドにも公式4-2-2の関数を使って10～50の整数をランダムに発生させるようにすればよい。"
   ]
  },
  {
   "cell_type": "code",
   "execution_count": null,
   "metadata": {},
   "outputs": [],
   "source": []
  },
  {
   "cell_type": "code",
   "execution_count": null,
   "metadata": {},
   "outputs": [],
   "source": []
  }
 ],
 "metadata": {
  "kernelspec": {
   "display_name": "Python 3",
   "language": "python",
   "name": "python3"
  },
  "language_info": {
   "codemirror_mode": {
    "name": "ipython",
    "version": 3
   },
   "file_extension": ".py",
   "mimetype": "text/x-python",
   "name": "python",
   "nbconvert_exporter": "python",
   "pygments_lexer": "ipython3",
   "version": "3.6.5"
  }
 },
 "nbformat": 4,
 "nbformat_minor": 2
}

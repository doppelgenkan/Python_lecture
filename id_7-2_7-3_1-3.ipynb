{
 "cells": [
  {
   "cell_type": "markdown",
   "metadata": {},
   "source": [
    "# 課題7.2〜7.3の1-3"
   ]
  },
  {
   "cell_type": "markdown",
   "metadata": {},
   "source": [
    "***"
   ]
  },
  {
   "cell_type": "markdown",
   "metadata": {},
   "source": [
    "学籍番号："
   ]
  },
  {
   "cell_type": "markdown",
   "metadata": {},
   "source": [
    "氏　　名："
   ]
  },
  {
   "cell_type": "markdown",
   "metadata": {},
   "source": [
    "***"
   ]
  },
  {
   "cell_type": "markdown",
   "metadata": {},
   "source": [
    "**■問題１：** 次の課題を完成せよ。"
   ]
  },
  {
   "cell_type": "markdown",
   "metadata": {},
   "source": [
    "□1. `Kuruma`は、ある車のアクセルに関する、仕様書（設計図）のクラスである。クラス変数には、最高速度`max_speed = 180`と初期速度`speed = 0`が設定されている。  \n",
    "　さて、クラス`Kuruma`から生成したオブジェクト(インスタンス)に`accel`メソッド（引数なし）を１回作用(**バインド**)させると`speed`が10km/hだけ加速し、以下のように表示される：\n",
    "```\n",
    "car = Kuruma()  #Kurumaクラスからcarオブジェクトを生成\n",
    "\n",
    "car.accel()          #１回目のaccel()\n",
    "スピード：10km/h       #出力\n",
    "\n",
    "car.accel()          #２回目のaccel()\n",
    "スピード：20km/h       #出力\n",
    "```\n",
    "ただし、18回目以上の`accel`メソッドの作用はクラス変数`max_speed`で指定された速度を超えることはできない：\n",
    "```\n",
    "car.accel()         #18回目のaccel()\n",
    "スピード：180km/h     #出力\n",
    "\n",
    "car.accel()  　　　　#19回目のaccel()\n",
    "スピード：180km/h     #出力\n",
    "\n",
    "car.accel()        #20回目のaccel()\n",
    "スピード：180km/h    #出力\n",
    "```\n",
    "このようなクラス`Kuruma`のプログラムを下の`???`の埋めて完成せよ。"
   ]
  },
  {
   "cell_type": "code",
   "execution_count": null,
   "metadata": {},
   "outputs": [],
   "source": []
  },
  {
   "cell_type": "markdown",
   "metadata": {},
   "source": [
    "□2. `Kuruma`クラスのクラス変数`max_speed`の値を確かめよ："
   ]
  },
  {
   "cell_type": "code",
   "execution_count": null,
   "metadata": {},
   "outputs": [],
   "source": []
  },
  {
   "cell_type": "markdown",
   "metadata": {},
   "source": [
    "□3. `Kuruma`クラスから`car1`オブジェクトを生成し、`for`文を用いて`car1`に`accel`メソッドを20回作用させよ："
   ]
  },
  {
   "cell_type": "code",
   "execution_count": null,
   "metadata": {},
   "outputs": [],
   "source": []
  },
  {
   "cell_type": "markdown",
   "metadata": {},
   "source": [
    "□4. 仕様書（設計図）の仕様を作成したKurumaクラスのプログラムを弄らず変更しよう。クラス変数の最高速度を`120[km/h]`に変更し、さらに`car1`のオブジェクト変数(インスタンス変数)を`0[km/h]`に初期化し、`for`文を用いて`car1`に`accel`メソッドを20回作用させよ："
   ]
  },
  {
   "cell_type": "code",
   "execution_count": null,
   "metadata": {},
   "outputs": [],
   "source": []
  },
  {
   "cell_type": "markdown",
   "metadata": {},
   "source": [
    "□5. `Kuruma`クラスから新しいオブジェクト`car2`を生成し、`for`文を用いて`car2`に`accel`メソッドを20回作用させよ。また、`Kuruma`クラスのオブジェクト変数がプログラム内で`max_speed = 180`と設定してあるので、なぜこのような出力が表示されたのかの理由を述べよ："
   ]
  },
  {
   "cell_type": "code",
   "execution_count": null,
   "metadata": {},
   "outputs": [],
   "source": []
  },
  {
   "cell_type": "markdown",
   "metadata": {},
   "source": [
    "理由：▫︎4でクラス変数`max_speed`が120に設定されてしまったから，以後生成されるKurumaクラスオブジェクトは（クラス変数`max_speed`が再び変更されない限り）クラス変数`max_speed`に120をもつ。"
   ]
  },
  {
   "cell_type": "markdown",
   "metadata": {},
   "source": [
    "□6. 1で作成した`Kuruma`クラスのプログラムを下のセルにコピー＆ペーストし、クラス名を(`Kuruma`から)`NewKuruma`に変更せよ。また、クラス変数を消去し、代わりに`accel`メソッドの上に次のメソッド(コンストラクタ)\n",
    "```\n",
    "def __init__(self):\n",
    "    self.speed = 0\n",
    "    self.max_speed = 180\n",
    "```\n",
    "を加えよ：  \n",
    "> `__init__`メソッド(コンストラクタ)は、クラスからオブジェクト(インスタンス)が生成されたときに、自動的に処理が実行される。"
   ]
  },
  {
   "cell_type": "code",
   "execution_count": null,
   "metadata": {},
   "outputs": [],
   "source": []
  },
  {
   "cell_type": "markdown",
   "metadata": {},
   "source": [
    "□7. `NewKuruma`クラスから`car3`オブジェクトを生成し、`for`文を用いて`car3`に`accel`メソッドを20回作用させよ"
   ]
  },
  {
   "cell_type": "code",
   "execution_count": null,
   "metadata": {},
   "outputs": [],
   "source": []
  },
  {
   "cell_type": "markdown",
   "metadata": {},
   "source": [
    "□8. `car3`のオブジェクト変数(インスタンス変数)の最高速度を`120[km/h]`に変更し、さらにcar3のオブジェクト変数(インスタンス変数)を`0[km/h]`に初期化し、`for`文を用いて`car3`に`accel`メソッドを20回作用させよ："
   ]
  },
  {
   "cell_type": "code",
   "execution_count": null,
   "metadata": {},
   "outputs": [],
   "source": []
  },
  {
   "cell_type": "markdown",
   "metadata": {},
   "source": [
    "□9. `NewKuruma`クラスから新しいオブジェクト`car4`を生成し、`for`文を用いて`car4`に`accel`メソッドを20回作用させよ。また、8と5の結果とこの結果を比較し、なぜこのような表示がなされたかの理由を述べよ：  \n",
    "> 4と8をまず比較してみよ。異なるのは、`Kuruma.max_speed = 120`と`car3.max_speed = 120`のところだけで、出力結果は同じだ。次に5と9を比較してみよ。全く同じプログラムにも関わらず、出力結果は異なる。つまり理由を述べればよい。"
   ]
  },
  {
   "cell_type": "code",
   "execution_count": null,
   "metadata": {},
   "outputs": [],
   "source": []
  },
  {
   "cell_type": "markdown",
   "metadata": {},
   "source": [
    "理由：`NewKuruma`クラスの`max_speed`は各々のクラス全体に影響するクラス変数ではなく，オブジェクト（インスタンス）毎に設定できるオブジェクト変数（インスタンス変数）である。つまり，▫︎4は`Kuruma`クラスのいわゆる\"仕様書\"を変更したのに対して，▫︎8はオブジェクト`car3`の車自身を調整したことになる。"
   ]
  },
  {
   "cell_type": "markdown",
   "metadata": {},
   "source": [
    "# 　\n",
    "**■問題２：**次の課題を完成せよ。"
   ]
  },
  {
   "cell_type": "markdown",
   "metadata": {},
   "source": [
    "□1. 問題１と同様に、`Borsche`は、ボルシェ(ポルシェではない)という車のアクセルとブレーキに関する、仕様書（設計図）のクラスである。オブジェクト変数（インスタンス変数）には、最高速度`max_speed = 320`と初期速度`speed = 0`が設定されている。  \n",
    "　さて、クラス`Borsche`から生成したオブジェクト(インスタンス)に`accel`メソッドの引数を指定し、１回作用(**バインド**)させると`speed`が指定した引数の数値［km/h］だけ加速する。また、(加速された)同じオブジェクトに`brake`メソッドの引数を指定して１回バインドさせると`speed`が指定した引数の数値［km/h］だけ減速する。このようなプログラムを以下のセルの`???`部分を埋めて完成せよ："
   ]
  },
  {
   "cell_type": "code",
   "execution_count": null,
   "metadata": {},
   "outputs": [],
   "source": [
    "class Borsche:\n",
    "    def __init__(self):\n",
    "        ??? = 320\n",
    "        ??? = 0\n",
    "    \n",
    "    def accel(self, sp):\n",
    "        if self.speed < ???:\n",
    "            self.speed += ???    #self.speedを適当な数値で上げていくとself.max_speedを超える場合があることに注意\n",
    "            if self.speed > ???:    #self.speedがseself.max_speedより大きくなったとき\n",
    "                self.speed = ???    #強制的にself.speedをself.max_speed にする\n",
    "        else:\n",
    "            self.speed = ???\n",
    "        print(f'スピード：{self.speed}km/h')\n",
    "    \n",
    "    def brake(self, sp):\n",
    "        if self.speed > ???:\n",
    "            self.speed -= ???    #self.speedを適当な数値で下げていくとマイナスの速度になる場合があることに注意    \n",
    "            if self.speed < ???:    #self.speedが0より小さくなったとき\n",
    "                self.speed = ???    #強制的にself.speedを0 にする\n",
    "        else:\n",
    "            self.speed = 0        \n",
    "        print(f'スピード：{self.speed}km/h')            "
   ]
  },
  {
   "cell_type": "markdown",
   "metadata": {},
   "source": [
    "□2. `Borsche`クラスから`bor`オブジェクトを生成し、`for`文を用いて`bor`に`accel`メソッドを引数17で20回作用させよ："
   ]
  },
  {
   "cell_type": "code",
   "execution_count": null,
   "metadata": {},
   "outputs": [],
   "source": []
  },
  {
   "cell_type": "markdown",
   "metadata": {},
   "source": [
    "□3. `for`文を用いて`bor`オブジェクトに`brake`メソッドを引数13で30回作用させよ："
   ]
  },
  {
   "cell_type": "code",
   "execution_count": null,
   "metadata": {},
   "outputs": [],
   "source": []
  }
 ],
 "metadata": {
  "kernelspec": {
   "display_name": "Python 3",
   "language": "python",
   "name": "python3"
  },
  "language_info": {
   "codemirror_mode": {
    "name": "ipython",
    "version": 3
   },
   "file_extension": ".py",
   "mimetype": "text/x-python",
   "name": "python",
   "nbconvert_exporter": "python",
   "pygments_lexer": "ipython3",
   "version": "3.6.5"
  }
 },
 "nbformat": 4,
 "nbformat_minor": 2
}

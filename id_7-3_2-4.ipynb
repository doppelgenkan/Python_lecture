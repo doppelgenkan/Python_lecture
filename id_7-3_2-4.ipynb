{
 "cells": [
  {
   "cell_type": "markdown",
   "metadata": {},
   "source": [
    "## 課題7.3の2-4"
   ]
  },
  {
   "cell_type": "markdown",
   "metadata": {},
   "source": [
    "****"
   ]
  },
  {
   "cell_type": "markdown",
   "metadata": {},
   "source": [
    "学籍番号："
   ]
  },
  {
   "cell_type": "markdown",
   "metadata": {},
   "source": [
    "氏　　名："
   ]
  },
  {
   "cell_type": "markdown",
   "metadata": {},
   "source": [
    "****"
   ]
  },
  {
   "cell_type": "markdown",
   "metadata": {},
   "source": [
    "**■問題１(必須)：**p.162の練習問題5の変形版である。コンストラクターの中に同じクラスの他のメソッドを呼び出すのはあまり推奨できない（プログラムが読みにくくなるので僕は嫌いだ！）ので、以下のように変形した。"
   ]
  },
  {
   "cell_type": "markdown",
   "metadata": {},
   "source": [
    "□1. 以下のプログラムの???の部分を埋めてプログラムを完成させ、その下のセルの1-2-1〜1-3-2に、教科書と同じ結果が出るかを確かめよ："
   ]
  },
  {
   "cell_type": "code",
   "execution_count": 18,
   "metadata": {},
   "outputs": [],
   "source": [
    "class BMI:\n",
    "    def __init__(self, weight, height):\n",
    "        self.??? = weight\n",
    "        self.??? = height\n",
    "        \n",
    "    def calBMI(???):\n",
    "        h = ???.height / 100        #身長をmになおしている\n",
    "        return ???.weight / h**2    #BMIの値を返す\n",
    "    \n",
    "    def printJudge(self):\n",
    "        print('----------------')\n",
    "        bmi = ???      #calBMIメソッドでBMIを計算してbmiに代入. BMIを計算するのがメソッドであることに注意\n",
    "        print(f'体重:{???}[kgw]　身長:{???}[cm]')\n",
    "        print(f'BMI:{???}')\n",
    "        if bmi < 18.5:\n",
    "            print('痩せ型')\n",
    "        elif bmi < 25:\n",
    "            print('標準')\n",
    "        elif bmi < 30:\n",
    "            print('軽肥満')\n",
    "        else:\n",
    "            print('肥満')"
   ]
  },
  {
   "cell_type": "markdown",
   "metadata": {},
   "source": [
    "□1-2-1. 下のセルに`person1`オブジェクトを生成："
   ]
  },
  {
   "cell_type": "code",
   "execution_count": null,
   "metadata": {},
   "outputs": [],
   "source": []
  },
  {
   "cell_type": "markdown",
   "metadata": {},
   "source": [
    "□1-2-2. 下のセルに`person1`に`printJudge`メソッドをバインドさせ、結果を表示："
   ]
  },
  {
   "cell_type": "code",
   "execution_count": null,
   "metadata": {},
   "outputs": [],
   "source": []
  },
  {
   "cell_type": "markdown",
   "metadata": {},
   "source": [
    "□1-3-1. 下のセルに`person2`オブジェクトを生成："
   ]
  },
  {
   "cell_type": "code",
   "execution_count": null,
   "metadata": {},
   "outputs": [],
   "source": []
  },
  {
   "cell_type": "markdown",
   "metadata": {},
   "source": [
    "□1-3-2. 下のセルに`person2`に`printJudge`メソッドをバインドさせ、結果を表示："
   ]
  },
  {
   "cell_type": "code",
   "execution_count": null,
   "metadata": {},
   "outputs": [],
   "source": []
  },
  {
   "cell_type": "markdown",
   "metadata": {},
   "source": [
    "□2. いろいろな値でオブジェクトを作成し、肥満度を判定せよ："
   ]
  },
  {
   "cell_type": "code",
   "execution_count": null,
   "metadata": {},
   "outputs": [],
   "source": []
  },
  {
   "cell_type": "code",
   "execution_count": null,
   "metadata": {},
   "outputs": [],
   "source": []
  },
  {
   "cell_type": "code",
   "execution_count": null,
   "metadata": {},
   "outputs": [],
   "source": []
  },
  {
   "cell_type": "code",
   "execution_count": null,
   "metadata": {},
   "outputs": [],
   "source": []
  },
  {
   "cell_type": "code",
   "execution_count": null,
   "metadata": {},
   "outputs": [],
   "source": []
  },
  {
   "cell_type": "markdown",
   "metadata": {},
   "source": [
    "###  \n",
    "**■問題２(必須)：**p.161の練習問題3の変形版である。"
   ]
  },
  {
   "cell_type": "markdown",
   "metadata": {},
   "source": [
    "□1. 以下のプログラムで、`get_midpoint`メソッドの`return`の後を埋めよ。ただし、get_midpointが返すのはある点と他の点の中点のリスト(インデックス0の要素が中点のx座標、インデックス1の要素が中点のy座標)とする："
   ]
  },
  {
   "cell_type": "code",
   "execution_count": null,
   "metadata": {},
   "outputs": [],
   "source": [
    "import math\n",
    "\n",
    "class Point:\n",
    "    def __init__(self, x, y):\n",
    "        self.x = x\n",
    "        self.y = y\n",
    "    \n",
    "    def get_distance(self, p):    #pはPointクラスから生成されたオブジェクト(インスタンス)   \n",
    "        return math.sqrt((self.x - p.x)**2 + (self.y - p.y)**2)\n",
    "    \n",
    "    def get_midpoint(self, p):    #pはPointクラスから生成されたオブジェクト(インスタンス)\n",
    "        return ???                #中点の座標をリストとして返す"
   ]
  },
  {
   "cell_type": "markdown",
   "metadata": {},
   "source": [
    "□2. 座標(5, 7)をもつ`Point`クラスのオブジェクト`p1`を、座標(2, 3)をもつ`Point`クラスのオブジェクト`p2`を生成せよ（１つのセルで行え）："
   ]
  },
  {
   "cell_type": "code",
   "execution_count": null,
   "metadata": {},
   "outputs": [],
   "source": []
  },
  {
   "cell_type": "markdown",
   "metadata": {},
   "source": [
    "□3. オブジェクト`p1`と`p2`および`get_distance`メソッドを用いて、座標(5, 7)と座標(2, 3)の距離を求めよ："
   ]
  },
  {
   "cell_type": "code",
   "execution_count": null,
   "metadata": {},
   "outputs": [],
   "source": []
  },
  {
   "cell_type": "markdown",
   "metadata": {},
   "source": [
    "□4. オブジェクト`p1`と`p2`および`get_midpoint`メソッドを用いて、座標(5, 7)と座標(2, 3)の中点の座標を求めよ："
   ]
  },
  {
   "cell_type": "code",
   "execution_count": null,
   "metadata": {},
   "outputs": [],
   "source": []
  },
  {
   "cell_type": "markdown",
   "metadata": {},
   "source": [
    "###  \n",
    "**■問題３(加点)：**p.164の練習問題6の変形版である。ただし，クラスは一つだけである。  \n",
    "\n",
    "ある医療系学科では，2年生から3年生に進級するのに，解剖学(100点満点)，生理学(100点満点)，運動学(100点満点)を受けて，それらの平均点が60点以上かつそれぞれの科目が50点以上でなければならない（１つの科目が50点未満なら，他の科目がどれだけ点数が良くても留年する）。  \n",
    "\n",
    "学生の点数と平均点と合否を管理するプログラムをオブジェクト思考プログラム（Classを作成して作るプログラム）で作成する。"
   ]
  },
  {
   "cell_type": "markdown",
   "metadata": {},
   "source": [
    "□1. 以下のプログラムの???の部分を埋めてプログラムを完成させよ。"
   ]
  },
  {
   "cell_type": "code",
   "execution_count": null,
   "metadata": {},
   "outputs": [],
   "source": [
    "class Student:\n",
    "    def __init__(self, num, name, kiso3ka=[None, None, None]):\n",
    "        self.num = ???          #番号...学生番号の下一桁〜二桁\n",
    "        self.name = name        #氏名\n",
    "        self.kiso3ka = ???  #[解剖学,生理学,運動学]の初期値（引数で指定しなければ全てNone）\n",
    "    \n",
    "    def get_num(self):    #学生番号を返すメソッド\n",
    "        return self.num\n",
    "    \n",
    "    def get_name(self):    #名前を返すメソッド\n",
    "        return self.name\n",
    "    \n",
    "    def set_kaibou(self, point):    #解剖学の点数を設定するメソッド\n",
    "        self.kiso3ka[0] = point\n",
    "    \n",
    "    def set_seiri(self, point):    #生理学の点数を設定するメソッド\n",
    "        self.kiso3ka[1] = point\n",
    "\n",
    "    def set_undou(self, point):    #運動学の点数を設定するメソッド\n",
    "        self.kiso3ka[2] = point\n",
    "    \n",
    "    def set_3ka(self, point_list):    #[解剖学,生理学,運動学]をまとめて点数を設定するメソッド\n",
    "        self.kiso3ka = ???\n",
    "    \n",
    "    def get_kaibou(self):    #解剖学の点数を返すメソッド\n",
    "        return self.kiso3ka[0]\n",
    "    \n",
    "    def get_seiri(self):    #生理学の点数を返すメソッド\n",
    "        return self.???\n",
    "\n",
    "    def get_undou(self):    #運動学の点数を返すメソッド\n",
    "        return self.???\n",
    "    \n",
    "    def get_3ka(self):    #[解剖学,生理学,運動学]をまとめて点数を返すメソッド\n",
    "        return self.???\n",
    "\n",
    "    #基礎３科目平均点を返すメソッド\n",
    "    def heikin3ka(self):\n",
    "        goukei = 0\n",
    "        for point in self.kiso3ka:\n",
    "            goukei += point\n",
    "        return ???    #returnの後ろは小数第２位以下切り捨てする計算式（考えよ！）\n",
    "    \n",
    "    #合格判定：合格の場合はTrue, 不合格の場合はFalseを返すメソッド\n",
    "    def is_goukaku(self):\n",
    "        heikin = self.heikin3ka()    #３科目平均\n",
    "        print\n",
    "        if (??? >= 60) & (self.??? >= 50) & (self.??? >= 50) & (self.??? >= 50):    #平均が60以上かつ各々の科目が50以上\n",
    "            goukaku = True\n",
    "        else:\n",
    "            goukaku = False\n",
    "        return goukaku\n",
    "\n",
    "    #一人の学生の全情報（番号，氏名，解剖学, 生理学, 運動学, 平均, 合格）を辞書で返すメソッド\n",
    "    def info(self):\n",
    "        return {'番号':self.???, \n",
    "                '氏名':self.???, \n",
    "                '解剖学':self.kiso3ka[0], \n",
    "                '生理学':self.???, \n",
    "                '運動学':self.???, \n",
    "                '平均':self.heikin3ka(), \n",
    "                '合格':self.???}"
   ]
  },
  {
   "cell_type": "markdown",
   "metadata": {},
   "source": [
    "□2-1. `s1`に番号`1`，氏名が`伊賀町子`のオブジェクトを生成せよ："
   ]
  },
  {
   "cell_type": "code",
   "execution_count": null,
   "metadata": {},
   "outputs": [],
   "source": []
  },
  {
   "cell_type": "markdown",
   "metadata": {},
   "source": [
    "□2-2. `伊賀町子`の点数は，解剖学52点，生理学63点，運動学63点である。`set_kaibou`，`set_seiri`，`set_undou`のそれぞれのメソッドでそれらを設定せよ："
   ]
  },
  {
   "cell_type": "code",
   "execution_count": null,
   "metadata": {},
   "outputs": [],
   "source": []
  },
  {
   "cell_type": "markdown",
   "metadata": {},
   "source": [
    "□2-3. `伊賀町子`の平均点を出せ："
   ]
  },
  {
   "cell_type": "code",
   "execution_count": null,
   "metadata": {},
   "outputs": [],
   "source": []
  },
  {
   "cell_type": "markdown",
   "metadata": {},
   "source": [
    "□2-4. `伊賀町子`の合格情報（合格なら'True'，不合格なら'False'）を出せ："
   ]
  },
  {
   "cell_type": "code",
   "execution_count": null,
   "metadata": {},
   "outputs": [],
   "source": []
  },
  {
   "cell_type": "markdown",
   "metadata": {},
   "source": [
    "□3-1. s2に番号`2`，氏名が`奥万田三助`のオブジェクトを生成せよ："
   ]
  },
  {
   "cell_type": "code",
   "execution_count": null,
   "metadata": {},
   "outputs": [],
   "source": []
  },
  {
   "cell_type": "markdown",
   "metadata": {},
   "source": [
    "□3-2. `奥万田三助`の点数は解剖学59点，生理学61点，運動学58点である。`set_3ka`のメソッドでそれらをまとめて設定せよ："
   ]
  },
  {
   "cell_type": "code",
   "execution_count": null,
   "metadata": {},
   "outputs": [],
   "source": []
  },
  {
   "cell_type": "markdown",
   "metadata": {},
   "source": [
    "□3-3. `奥万田三助`の平均点を出せ："
   ]
  },
  {
   "cell_type": "code",
   "execution_count": null,
   "metadata": {},
   "outputs": [],
   "source": []
  },
  {
   "cell_type": "markdown",
   "metadata": {},
   "source": [
    "□3-4. `奥万田三助`の合格情報を出せ："
   ]
  },
  {
   "cell_type": "code",
   "execution_count": null,
   "metadata": {},
   "outputs": [],
   "source": []
  },
  {
   "cell_type": "markdown",
   "metadata": {},
   "source": [
    "□4-1. `s3`に番号3，氏名が`鍛冶太郎`，解剖学79点，生理学69点，運動学66点を１つのセルで生成せよ："
   ]
  },
  {
   "cell_type": "code",
   "execution_count": null,
   "metadata": {},
   "outputs": [],
   "source": []
  },
  {
   "cell_type": "markdown",
   "metadata": {},
   "source": [
    "□4-2. `鍛冶太郎`の平均点を出せ："
   ]
  },
  {
   "cell_type": "code",
   "execution_count": null,
   "metadata": {},
   "outputs": [],
   "source": []
  },
  {
   "cell_type": "markdown",
   "metadata": {},
   "source": [
    "□4-3. `鍛冶太郎`の合格情報を出せ："
   ]
  },
  {
   "cell_type": "code",
   "execution_count": null,
   "metadata": {},
   "outputs": [],
   "source": []
  },
  {
   "cell_type": "markdown",
   "metadata": {},
   "source": [
    "□5-1. オブジェクト`s1`, `s2`, `s3`を(順に)要素にもつリスト`s_list1`を作れ："
   ]
  },
  {
   "cell_type": "code",
   "execution_count": null,
   "metadata": {},
   "outputs": [],
   "source": []
  },
  {
   "cell_type": "markdown",
   "metadata": {},
   "source": [
    "□5-2. リスト`s_list1`のインデックス1の要素の学生についての全情報の辞書を出せ："
   ]
  },
  {
   "cell_type": "code",
   "execution_count": null,
   "metadata": {},
   "outputs": [],
   "source": []
  },
  {
   "cell_type": "markdown",
   "metadata": {},
   "source": [
    "□5-3. 次のセルを実行し，２つのリスト`s_list2`と`p_list2`を作れ：  \n",
    "`s_list2`の各要素は番号4以降の各学生の番号と氏名だけの情報が入った`Student`クラスのオブジェクト(インスタンス)で，`p_list2`は`s_list2`の各要素の学生の`[解剖学の点数, 生理学の点数, 運動学の点数]`のリストを要素にもつリストである："
   ]
  },
  {
   "cell_type": "code",
   "execution_count": null,
   "metadata": {},
   "outputs": [],
   "source": [
    "s_list2 = [\n",
    "    Student(4, '下町智子'),\n",
    "    Student(5, '高橋涼太'),\n",
    "    Student(6, '宝つか子'),\n",
    "    Student(7, '多田桜'),\n",
    "    Student(8, '寺岡進'),\n",
    "    Student(9, '時田時夫'),\n",
    "    Student(10, '緑丘庄助'),\n",
    "    Student(11, '百田優希'),\n",
    "    Student(12, '矢問アズレ')]\n",
    "\n",
    "p_list2 = [\n",
    "    [56, 57, 61],\n",
    "    [89, 84, 79],\n",
    "    [65, 71, 48],\n",
    "    [72, 72, 56],\n",
    "    [67, 66, 89],\n",
    "    [71, 49, 77],\n",
    "    [51, 66, 68],\n",
    "    [63, 78, 61],\n",
    "    [98, 49, 84]]"
   ]
  },
  {
   "cell_type": "markdown",
   "metadata": {},
   "source": [
    "□5-4. `s_list2`の各学生情報に`p_list2`の各点数情報を付け加えたい。そのために，次のプログラムの`???`を埋めて実行せよ：  \n",
    "※)`zip`関数は以前の課題に出てきたが，ここでもう一度示しておく：\n",
    "```\n",
    "for 変数1, 変数2 in zip(リスト1, リスト2):\n",
    "    処理\n",
    "```  \n",
    "は`リスト1`と`リスト2`の同じインデックスの要素をそれぞれ`変数1`と`変数2`の代入して、`処理`を繰り返す。"
   ]
  },
  {
   "cell_type": "code",
   "execution_count": null,
   "metadata": {},
   "outputs": [],
   "source": [
    "for stud, point in zip(s_list2, p_list2):\n",
    "    stud.???"
   ]
  },
  {
   "cell_type": "markdown",
   "metadata": {},
   "source": [
    "□5-5. `s_list1`と`s_list2`を結合して１つのリスト`s_list`を作れ："
   ]
  },
  {
   "cell_type": "code",
   "execution_count": null,
   "metadata": {},
   "outputs": [],
   "source": []
  },
  {
   "cell_type": "markdown",
   "metadata": {},
   "source": [
    "□5-6. 下の`???`部分を埋めて，`s_list`から全学生の全情報を表示せよ："
   ]
  },
  {
   "cell_type": "code",
   "execution_count": null,
   "metadata": {},
   "outputs": [],
   "source": [
    "for s in ???:\n",
    "    print(s.???)"
   ]
  },
  {
   "cell_type": "code",
   "execution_count": null,
   "metadata": {},
   "outputs": [],
   "source": []
  }
 ],
 "metadata": {
  "kernelspec": {
   "display_name": "Python 3",
   "language": "python",
   "name": "python3"
  },
  "language_info": {
   "codemirror_mode": {
    "name": "ipython",
    "version": 3
   },
   "file_extension": ".py",
   "mimetype": "text/x-python",
   "name": "python",
   "nbconvert_exporter": "python",
   "pygments_lexer": "ipython3",
   "version": "3.6.5"
  }
 },
 "nbformat": 4,
 "nbformat_minor": 2
}

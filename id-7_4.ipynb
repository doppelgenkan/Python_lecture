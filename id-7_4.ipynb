{
 "cells": [
  {
   "cell_type": "markdown",
   "metadata": {},
   "source": [
    "## 課題7.4"
   ]
  },
  {
   "cell_type": "markdown",
   "metadata": {},
   "source": [
    "****"
   ]
  },
  {
   "cell_type": "markdown",
   "metadata": {},
   "source": [
    "学籍番号："
   ]
  },
  {
   "cell_type": "markdown",
   "metadata": {},
   "source": [
    "氏　　名："
   ]
  },
  {
   "cell_type": "markdown",
   "metadata": {},
   "source": [
    "****"
   ]
  },
  {
   "cell_type": "markdown",
   "metadata": {},
   "source": [
    "**■問題１(必須)：**p.160の練習問題2の変形版である。（いつもやっているような）クラスの外側で`Turtle`オブジェクトを生成するのではなく、クラス内（トップクラス内）で**その**クラスが生成されたときに`Turtle`オブジェクトも生成するように（クラス）コードを書く例である（教科書より立派なプログラムになる）。  \n",
    "　クラスのコンストラクタ等で、**`self`をバインドしたオブジェクト名**で`Turtle`オブジェクトを生成するコードを書く、例えば： \n",
    "```\n",
    "class Nantoka:\n",
    "    __init__(self, ...):\n",
    "    self.t = turtle.Turtle()\n",
    "    .....\n",
    "```\n",
    "（`self.t`の`t`は許される文字列なら何でもよい、例えば`self.kame`、...とかである）。そうすると、**その**クラスから**カメ**オブジェクトを生成したとき、そのカメは**`Turtle`クラスとは独立したカメ**として扱うことができ、**その**クラスの中で定義された**属性**や**メソッド**のみが有効になる。その代わり、プログラム内でそのカメを使うときには、`self`をバインドしてやらなければならない（例えば、`self.t.fd(...)`とかである）。**カメ**に**その**クラスで定義した振る舞い（メソッド）以外の振る舞いを**させたくない**ときにこういうやり方でプログラムを作る（これが通常の作り方で、教科書のやり方のほうがおかしい）。"
   ]
  },
  {
   "cell_type": "markdown",
   "metadata": {},
   "source": [
    "□1. 教科書のように、コンストラクタの中に動作（親クラスのコンストラクタ：`super().__init__(...) `等以外の普通のメソッド）を入れるのは**推奨されない**のでやめておこう。その代わり、`SubKameClass`クラスで生成したオブジェクトに`sankaku`メソッド（実引数２つ）をバインドさせたときに、教科書のように、まず（第１実引数で）指定の数値だけ前に進み、次に（第２実引数で）指定の辺の長さの正三角形を描くようにプログラムしよう。以下の`???`部分を埋めてプログラムを完成せよ："
   ]
  },
  {
   "cell_type": "code",
   "execution_count": null,
   "metadata": {},
   "outputs": [],
   "source": [
    "import turtle\n",
    "\n",
    "class KameClass:\n",
    "    def __init__(???):\n",
    "        self.t = turtle.Turtle()   #Turtleクラスとは独立したカメを生成\n",
    "        ??? = n              #引数で与えられら名前nをこのクラスの属性にする\n",
    "    \n",
    "    def add_kame(self, L):\n",
    "        print(f'{???}{L}ステップ移動')\n",
    "        ???.fd(L)       #KameClassのカメが移動\n",
    "\n",
    "    def reset(self):    #これを入れなければ作成した絵が消去できない\n",
    "        self.t.reset()\n",
    "        \n",
    "        \n",
    "class SubKameClass(KameClass):\n",
    "    def __init__(self, n):\n",
    "        super().???    #親クラスのコンストラクタを実行\n",
    "    \n",
    "    def sankaku(self, L, LL):\n",
    "        super().???    #親クラスのadd_kameメソッドを実行\n",
    "        print(f'一辺が{LL}の{self.name}の正三角形')\n",
    "        for _ in range(3):\n",
    "            ???.fd(LL)         #SubKameClassのカメが、一辺がLLの線分を引き\n",
    "            ???.lt(360 / 3)    #SubKameClassのカメが、120°左回転"
   ]
  },
  {
   "cell_type": "markdown",
   "metadata": {},
   "source": [
    "□2. `h1`に`SubKameClass`から`'太郎'`という名のオブジェクトを生成し、`'太郎'`を50ピクセル前に移動した後、一辺が200ピクセルの正三角形を描け（１つのセルで行うこと）。"
   ]
  },
  {
   "cell_type": "code",
   "execution_count": null,
   "metadata": {},
   "outputs": [],
   "source": []
  },
  {
   "cell_type": "markdown",
   "metadata": {},
   "source": [
    "□3. もう一度、`'太郎'`を50ピクセル前に移動した後、一辺が200ピクセルの正三角形を描け）。"
   ]
  },
  {
   "cell_type": "code",
   "execution_count": null,
   "metadata": {},
   "outputs": [],
   "source": []
  },
  {
   "cell_type": "markdown",
   "metadata": {},
   "source": [
    "□4. `h2`に`SubKameClass`から`'花子'`という名のオブジェクトを生成し、（`'太郎'`の描いた絵に付け加えて）`'花子'`で以下の絵を描け。（セルはいくつ使ってもよい。セルを増やすときは、［+］ボタンをクリックする。）  \n",
    "![太郎・花子](./figs/fig1.jpg)"
   ]
  },
  {
   "cell_type": "code",
   "execution_count": null,
   "metadata": {},
   "outputs": [],
   "source": []
  },
  {
   "cell_type": "markdown",
   "metadata": {},
   "source": [
    "□5. 4 で描いた図のスクリーンショットを\n",
    "```\n",
    "学生番号-7_4_1.png\n",
    "```\n",
    "で保存せよ。 \n",
    "\n",
    "※) キャンバスの図形を削除するには、\n",
    "```\n",
    "h1.reset()\n",
    "h2.reset()\n",
    "```\n",
    "を実行すればよい。"
   ]
  },
  {
   "cell_type": "markdown",
   "metadata": {},
   "source": [
    "###  \n",
    "**■問題２(加点)：**  `Kame`クラス、`SubKame`クラス、`SubSubKame`クラスは次のような仕様である：  \n",
    "★**`Kame`クラス**からオブジェクトを生成すると（オブジェクトを生成するときには引数で名前を付けてやらなければならない！）、カメの形をした（デフォルトで）緑色（←変更することもできる）のオブジェクトができる。`Kame`クラスのオブジェクトは次のメソッドをもっている：  \n",
    "- `jump_kame`メソッド：カメは線を引かず（引数のx，y座標で指定された）指定位置まで飛んでいく。\n",
    "- `rot_kame`メソッド：360°〜5×360°の間の好き勝手な角で左回りまたは右回りで回転する。つまり、回転角は`random`モジュールの`randint(360, 360*5)`で与えらる。ただし、その回転角が偶数のときは左回りに、奇数のときは右回りに回転をする。\n",
    "- `line_kame`は、`rot_kame`メソッドを実行した後（好き勝手に回転した後）に指定の長さの線を引きながらまっすぐ前に進む。\n",
    "\n",
    "★**`SubKame`クラス**は`Kame`を親クラスにもつ。だから`SubKame`クラスからカメのオブジェクトを生成すると（オブジェクトを生成するときには引数で名前を付けてやらなければならない！）、そのオブジェクトは親のすべての属性とメソッドを引き継ぐが、ただしひとつだけ異なる点があって、それは色がデフォルトで赤である（←変更することもできる）ということだ。さらに、`SubKame`クラスのオブジェクトは親がもっていない次のメソッドをもっている：\n",
    "- `n_kakukei`メソッド：正n角形を指定の辺の長さで、指定の位置から描く。ただし、`n_kakukei`メソッドでn角形を描くときには、親の（悲しい遺伝子のせいで）`rot_kame`メソッドを自動で実行してから（つまり好き勝手に回転した後に）n角形を描いてしまう。（`SubKame`クラスの`n_kakukei`メソッドをオーバライドする。）  \n",
    "\n",
    "★**`SubSubKame`クラス**は`SubKame`を親クラスをもつ。だから`SubSubKame`クラスからカメのオブジェクトを生成すると（オブジェクトを生成するときには引数で名前を付けてやらなければならない！）、そのオブジェクトは`SubKame`クラスのオブジェクトは親のすべての属性とメソッドを引き継いでいるが、ただし色はデフォルトで青である（←変更することもできる）。`SubSubKame`クラスのオブジェクトは、親と同じ名前の`n_kakukei`メソッドをもっているが、少し進化していて親のものとは振る舞いが違う：\n",
    "- `n_kakukei`メソッド：好き勝手に回転してから（指定の位置で指定の辺の長さの）正n角形を描いた後に引き続き、またまた好き勝手に回転し、今度は辺の長さが1.2倍の正n+1角形を描く。  "
   ]
  },
  {
   "cell_type": "markdown",
   "metadata": {},
   "source": [
    "□2. 上記を実行するプログラムを下の`???`部分を埋めて作成せよ："
   ]
  },
  {
   "cell_type": "code",
   "execution_count": null,
   "metadata": {},
   "outputs": [],
   "source": [
    "import turtle\n",
    "import random\n",
    "\n",
    "class Kame:\n",
    "    def __init__(self, name, col='green'):    #カラーはデフォルトで緑\n",
    "        ??? = turtle.Turtle()    #KameクラスのオブジェクトとしてTurtleオブジェクトを生成\n",
    "        self.name = ???    #引数で与えられら名前nameをこのクラスの属性にする\n",
    "        self.t.shape('turtle')\n",
    "        self.col = ???    #引数で与えられ指定した色colをこのクラスの属性にする\n",
    "        self.t.???    #このクラスの属性の色でこのクラスのカメを色付け\n",
    "    \n",
    "    def jump_kame(self, x, y):    #第２, 第３引数はx座標, y座標\n",
    "        print(f'{self.name}が位置{(x, y)}にジャンプ')\n",
    "        self.t.???    #ペンを上げる（教科書p.85の表5.4参照）\n",
    "        self.t.???    #指定のx座標にジャンプ（教科書p.84の表5.2参照）\n",
    "        self.t.???    #指定のy座標にジャンプ（教科書p.84の表5.2参照）\n",
    "        self.t.???    #ペンを下げる（教科書p.85の表5.4参照）\n",
    "        \n",
    "    def rot_kame(self):\n",
    "        r = random.randint(360, 360*5)   #360〜360×5の範囲の整数の乱数\n",
    "        if ???:    #「rが偶数のとき」の条件式\n",
    "            print(f'{self.name}が{r}°左回転')\n",
    "            self.t.???    #r°左回転\n",
    "        else:\n",
    "            print(f'{self.name}が{r}°右回転')\n",
    "            self.t.???    #r°右回転\n",
    "    \n",
    "    def line_kame(self, nagasa):\n",
    "        self.???    #カメが好き勝手に回転\n",
    "        print(f'{self.name}が長さ{nagasa}の直線を引く')\n",
    "        self.t.???    #指定の長さnagasaの線分を引く\n",
    "        \n",
    "    def reset(self):    #これを入れなければ作成した絵が消去できない\n",
    "        self.t.reset()\n",
    "\n",
    "            \n",
    "class SubKame(Kame):\n",
    "    def __init__(self, name, col='red'):\n",
    "        ???.__init__(name, col=col)    #親のコンストラクタを実行\n",
    "    \n",
    "    def n_kakukei(self, n, hen, x, y):\n",
    "        super().???    #指定位置に飛ぶ（親のメソッドを再利用）\n",
    "        super().???    #好き勝手に回転する（親のメソッドを再利用）\n",
    "        print(f'一辺が{hen}の{self.name}が描いた正{n}角形')\n",
    "        for _ in range(???):    #ここのforブロックで正n角形を描く\n",
    "            self.t.???    #このクラスのカメが、一辺がhenの線分を引き\n",
    "            self.t.???    #このクラスのカメが、360/n°左回転\n",
    "\n",
    "\n",
    "class SubSubKame(SubKame):\n",
    "    def __init__(self, name, col='blue'):\n",
    "        super().???    #親のコンストラクタを実行\n",
    "\n",
    "    def n_kakukei(self, n, hen, x, y):    #オーバーライド\n",
    "        ???    #指定位置に飛んで好き勝手に回転し１回目の正n角形を描き（親のメソッドを再利用）←１行まるまる書け\n",
    "        ???    #辺を1.2倍にして...←１行まるまる書け\n",
    "        ???    #指定位置に飛んで好き勝手に回転し２回目の正n+1角形を描く（親のメソッドを再利用）←１行まるまる書け"
   ]
  },
  {
   "cell_type": "markdown",
   "metadata": {},
   "source": [
    "□2. 次のとおり実行せよ（セルはいくつ使ってもよい。セルを増やすときは、［+］ボタンをクリックする。）：\n",
    "1. `Kame`クラスから生成した`jiro`（名前は`'次郎'`）オブジェクトを適当な位置にジャンプさせて、適当な長さの線分を描け。\n",
    "2. 再び`jiro`を適当な位置にジャンプさせて、適当な長さの線分を描け。\n",
    "3. `SubKame`クラスから生成した`sansuke`（名前は'三助'）オブジェクトで適当な位置に適当な辺の長さの正n角形を描け。\n",
    "4. `SubSubKame`クラスから生成した`machiko`（名前は'町子'）オブジェクトで適当な位置に適当な辺の長さの正n角形と正n+1角形を描け。\n",
    "5. `SubSubKame`クラスから生成した**黒色**の`okumanda`（名前は'奥万田'）オブジェクトで適当な位置に適当な辺の長さの正n角形と正n+1角形を描け。\n",
    "\n",
    "![例](./figs/fig2.jpg)  \n",
    "<div style=\"text-align: center;\">\n",
    "こんな感じ\n",
    "</div>"
   ]
  },
  {
   "cell_type": "code",
   "execution_count": null,
   "metadata": {},
   "outputs": [],
   "source": []
  },
  {
   "cell_type": "code",
   "execution_count": null,
   "metadata": {},
   "outputs": [],
   "source": []
  },
  {
   "cell_type": "code",
   "execution_count": null,
   "metadata": {},
   "outputs": [],
   "source": []
  },
  {
   "cell_type": "code",
   "execution_count": null,
   "metadata": {},
   "outputs": [],
   "source": []
  },
  {
   "cell_type": "code",
   "execution_count": null,
   "metadata": {},
   "outputs": [],
   "source": []
  },
  {
   "cell_type": "code",
   "execution_count": null,
   "metadata": {},
   "outputs": [],
   "source": []
  },
  {
   "cell_type": "markdown",
   "metadata": {},
   "source": [
    "□3. 2 で描いた図のスクリーンショットを\n",
    "```\n",
    "学生番号-7_4_2.png\n",
    "```\n",
    "で保存せよ。"
   ]
  },
  {
   "cell_type": "code",
   "execution_count": null,
   "metadata": {},
   "outputs": [],
   "source": []
  }
 ],
 "metadata": {
  "kernelspec": {
   "display_name": "Python 3",
   "language": "python",
   "name": "python3"
  },
  "language_info": {
   "codemirror_mode": {
    "name": "ipython",
    "version": 3
   },
   "file_extension": ".py",
   "mimetype": "text/x-python",
   "name": "python",
   "nbconvert_exporter": "python",
   "pygments_lexer": "ipython3",
   "version": "3.6.5"
  }
 },
 "nbformat": 4,
 "nbformat_minor": 2
}

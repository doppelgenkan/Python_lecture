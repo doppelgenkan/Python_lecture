{
 "cells": [
  {
   "cell_type": "markdown",
   "metadata": {},
   "source": [
    "# 3.1の課題  "
   ]
  },
  {
   "cell_type": "markdown",
   "metadata": {},
   "source": [
    "学生番号：181P001"
   ]
  },
  {
   "cell_type": "markdown",
   "metadata": {},
   "source": [
    "氏　　名：阿部美香"
   ]
  },
  {
   "cell_type": "markdown",
   "metadata": {},
   "source": [
    "### ■．次の問題に答えよ。"
   ]
  },
  {
   "cell_type": "markdown",
   "metadata": {},
   "source": [
    "□1.  変数`name1`に自分の名，変数`name2`に自分の姓を代入し，`name1`と`name2`の演算によって自分の姓名を求め、それを`myname`変数に格納せよ。最後の行で，`print`関数を用いて`myname`変数の内容を表示せよ（１つのセルで行うこと）："
   ]
  },
  {
   "cell_type": "code",
   "execution_count": 5,
   "metadata": {},
   "outputs": [
    {
     "name": "stdout",
     "output_type": "stream",
     "text": [
      "Abe Mika\n"
     ]
    }
   ],
   "source": [
    "name1 = 'Mika'\n",
    "name2 = 'Abe'\n",
    "myname = name2+ ' ' +name1\n",
    "print(myname)"
   ]
  },
  {
   "cell_type": "markdown",
   "metadata": {},
   "source": [
    "□2. 変数`age`，`place`にそれぞれ，自分の年齢と出身都道府県を代入し，`name1`，`name2`，`age`，`place`と `print`関数を用いて  \n",
    "&nbsp;&nbsp;&nbsp;&nbsp;&nbsp;&nbsp;&nbsp;&nbsp;&nbsp;&nbsp;`私、姓は...、名は...と申します。...で生まれ、現在...才になります。`  \n",
    "と表示せよ（１つのセルで行うこと）。"
   ]
  },
  {
   "cell_type": "code",
   "execution_count": 13,
   "metadata": {},
   "outputs": [
    {
     "name": "stdout",
     "output_type": "stream",
     "text": [
      "私、姓はAbe、名はMikaと申します。Hyogoで生まれ、18才になります。\n"
     ]
    }
   ],
   "source": [
    "age=18\n",
    "place='Hyogo'\n",
    "print(f'私、姓は{name2}、名は{name1}と申します。{place}で生まれ、{age}才になります。')\n"
   ]
  },
  {
   "cell_type": "markdown",
   "metadata": {},
   "source": [
    "> 例えば姓が山田、名が太郎、出身都道府県が大阪、年齢が20才の場合、  \n",
    ">\n",
    "> &nbsp;&nbsp;&nbsp;&nbsp;&nbsp;&nbsp;&nbsp;&nbsp;&nbsp;&nbsp;`私、姓は山田、名は太郎と申します。大阪で生まれ、現在20才になります。`\n",
    ">\n",
    "> という出力になる。"
   ]
  }
 ],
 "metadata": {
  "kernelspec": {
   "display_name": "Python 3",
   "language": "python",
   "name": "python3"
  },
  "language_info": {
   "codemirror_mode": {
    "name": "ipython",
    "version": 3
   },
   "file_extension": ".py",
   "mimetype": "text/x-python",
   "name": "python",
   "nbconvert_exporter": "python",
   "pygments_lexer": "ipython3",
   "version": "3.6.4"
  }
 },
 "nbformat": 4,
 "nbformat_minor": 2
}

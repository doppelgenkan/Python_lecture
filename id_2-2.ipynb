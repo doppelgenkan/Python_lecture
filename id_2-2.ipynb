{
 "cells": [
  {
   "cell_type": "markdown",
   "metadata": {
    "colab_type": "text",
    "id": "kKlmpqPyXLTf"
   },
   "source": [
    "# 2.2の課題"
   ]
  },
  {
   "cell_type": "markdown",
   "metadata": {
    "colab_type": "text",
    "id": "i3ImvZuuXLTi"
   },
   "source": [
    "学生番号："
   ]
  },
  {
   "cell_type": "markdown",
   "metadata": {
    "colab_type": "text",
    "id": "Fs51NaKLXLTk"
   },
   "source": [
    "氏　　名："
   ]
  },
  {
   "cell_type": "markdown",
   "metadata": {
    "colab_type": "text",
    "id": "R446dNsmXLT8"
   },
   "source": [
    "### ■1．時間に関する次の問いに答えよ："
   ]
  },
  {
   "cell_type": "markdown",
   "metadata": {
    "colab_type": "text",
    "id": "uE2i2ZyQXLT-"
   },
   "source": [
    "□1-1．1時間は何秒かを計算せよ："
   ]
  },
  {
   "cell_type": "code",
   "execution_count": null,
   "metadata": {
    "colab": {},
    "colab_type": "code",
    "id": "0EvCtaJKXLT_"
   },
   "outputs": [],
   "source": []
  },
  {
   "cell_type": "markdown",
   "metadata": {
    "colab_type": "text",
    "id": "ozxGkJz6XLUD"
   },
   "source": [
    "> １分の秒数に１時間の分数(「ふんすう」←「ぶんすう」では**ない**)を掛ければよい。"
   ]
  },
  {
   "cell_type": "markdown",
   "metadata": {
    "colab_type": "text",
    "id": "GVuQhr6VXLUE"
   },
   "source": [
    "□1-2．前問の結果(1時間の秒数)を`h2s`という変数に代入して，つ`h2s`の内容を`print`関数を使って表示せよ（１つのセル内で行うこと）："
   ]
  },
  {
   "cell_type": "code",
   "execution_count": null,
   "metadata": {
    "colab": {},
    "colab_type": "code",
    "id": "qi6QPFfOXLUF"
   },
   "outputs": [],
   "source": []
  },
  {
   "cell_type": "markdown",
   "metadata": {
    "colab_type": "text",
    "id": "JjqpJkirXLUI"
   },
   "source": [
    "> １行目に代入式を入力し，［Enter］を押して２行目に移り，２行目に`print(h2s)`を入力して，実行（［Shift］＋［Enter］）すればよい。  "
   ]
  },
  {
   "cell_type": "markdown",
   "metadata": {
    "colab_type": "text",
    "id": "CTWbpOU4XLUJ"
   },
   "source": [
    "□1-3． 1日の秒数を1-2の`h2s`を使って新たな変数`d2s`に代入し，`d2s`の内容を`print`関数を使って表示せよ（１つのセルで行うこと）："
   ]
  },
  {
   "cell_type": "code",
   "execution_count": null,
   "metadata": {
    "colab": {},
    "colab_type": "code",
    "id": "iFnIt70gXLUK"
   },
   "outputs": [],
   "source": []
  },
  {
   "cell_type": "markdown",
   "metadata": {
    "colab_type": "text",
    "id": "Ej7l7swRXLUN"
   },
   "source": [
    "□1-4． １年(うるう年を除く)の秒数を1-3の`d2s`を使って新たな変数`cy2s`に代入し，`cy2s`の内容を`print`関数を使って表示せよ（１つのセルで行うこと）："
   ]
  },
  {
   "cell_type": "code",
   "execution_count": null,
   "metadata": {
    "colab": {},
    "colab_type": "code",
    "id": "2ts7sW94XLUO"
   },
   "outputs": [],
   "source": []
  },
  {
   "cell_type": "markdown",
   "metadata": {
    "colab_type": "text",
    "id": "MtwKlc_JXLUP"
   },
   "source": [
    "□1-5．うるう年を秒数を1-3の`d2s`を使って新たな変数`ly2s`に代入し，`ly2s`の内容を`print`関数を使って表示せよ（１つのセルで行うこと）："
   ]
  },
  {
   "cell_type": "code",
   "execution_count": null,
   "metadata": {
    "colab": {},
    "colab_type": "code",
    "id": "WGVHeeDJXLUQ"
   },
   "outputs": [],
   "source": []
  },
  {
   "cell_type": "markdown",
   "metadata": {
    "colab_type": "text",
    "id": "YXyy8D2mXLUS"
   },
   "source": [
    "□1-6．変数`cy2s`と`ly2s`を使って，4年は何秒かを計算し表示せよ："
   ]
  },
  {
   "cell_type": "code",
   "execution_count": null,
   "metadata": {
    "colab": {},
    "colab_type": "code",
    "id": "afFwdojiXLUT"
   },
   "outputs": [],
   "source": []
  },
  {
   "cell_type": "markdown",
   "metadata": {
    "colab_type": "text",
    "id": "ubbMl5vNXLUV"
   },
   "source": [
    "### ■2．次の問いに答えよ："
   ]
  },
  {
   "cell_type": "markdown",
   "metadata": {
    "colab_type": "text",
    "id": "WDu7VfDJXLUW"
   },
   "source": [
    "□2-1 . 次のコードを実行し結果を確かめよ："
   ]
  },
  {
   "cell_type": "code",
   "execution_count": null,
   "metadata": {
    "colab": {},
    "colab_type": "code",
    "id": "eBPHGSEDXLUW"
   },
   "outputs": [],
   "source": [
    "x = 0                #(1)\n",
    "x = x**2 + x + 1    #(2)\n",
    "x = x**2 + x + 1    #(3)\n",
    "x = x**2 + x + 1    #(4)\n",
    "print(x)             #(5)"
   ]
  },
  {
   "cell_type": "markdown",
   "metadata": {
    "colab_type": "text",
    "id": "tnkj1t7xXLUY"
   },
   "source": [
    "> シャープ（*`#`*）記号の後ろに続く文字列は，実行時に無視される。したがって，*`#`*の後ろの*`(1)`〜`(5)`*は式番号とみなし，以下の問題に使うこと。"
   ]
  },
  {
   "cell_type": "markdown",
   "metadata": {
    "colab_type": "text",
    "id": "ExN0FgcQXLUZ"
   },
   "source": [
    "□2-2. なぜ2-1のような結果が出力されたのかを，下のマークダウンセルに具体的に説明せよ："
   ]
  },
  {
   "cell_type": "markdown",
   "metadata": {
    "colab_type": "text",
    "id": "-V-KJWl3XLUZ"
   },
   "source": [
    "（ここをダブルクリックして述べよ）"
   ]
  }
 ],
 "metadata": {
  "colab": {
   "name": "id_2-2.ipynb",
   "provenance": [],
   "version": "0.3.2"
  },
  "kernelspec": {
   "display_name": "Python 3 (ipykernel)",
   "language": "python",
   "name": "python3"
  },
  "language_info": {
   "codemirror_mode": {
    "name": "ipython",
    "version": 3
   },
   "file_extension": ".py",
   "mimetype": "text/x-python",
   "name": "python",
   "nbconvert_exporter": "python",
   "pygments_lexer": "ipython3",
   "version": "3.11.5"
  }
 },
 "nbformat": 4,
 "nbformat_minor": 4
}

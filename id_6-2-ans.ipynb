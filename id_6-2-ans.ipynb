{
 "cells": [
  {
   "cell_type": "markdown",
   "metadata": {},
   "source": [
    "# 課題6.2_2\n",
    "***"
   ]
  },
  {
   "cell_type": "markdown",
   "metadata": {},
   "source": [
    "学籍番号："
   ]
  },
  {
   "cell_type": "markdown",
   "metadata": {},
   "source": [
    "氏　　名："
   ]
  },
  {
   "cell_type": "markdown",
   "metadata": {},
   "source": [
    "***"
   ]
  },
  {
   "cell_type": "markdown",
   "metadata": {},
   "source": [
    "**＜公式6-1a＞**  \n",
    "\n",
    "**`math.sin(引数)`**  \n",
    "\n",
    "意味：引数で指定された角の大きさについての**正弦(sin)**の値を返す。ただし、角の大きさは**弧度法〔rad〕**で指定しなければならない。\n",
    "***"
   ]
  },
  {
   "cell_type": "markdown",
   "metadata": {},
   "source": [
    "**＜公式6-1b＞**  \n",
    "\n",
    "**`math.cos(引数)`**  \n",
    "\n",
    "意味：引数で指定された角の大きさについての**余弦(cos)**の値を返す。ただし、角の大きさは**弧度法〔rad〕**で指定しなければならない。\n",
    "***"
   ]
  },
  {
   "cell_type": "markdown",
   "metadata": {},
   "source": [
    "**＜公式6-1c＞**  \n",
    "\n",
    "**`math.tan(引数)`**  \n",
    "\n",
    "意味：引数で指定された角の大きさについての**正接(tan)**の値を返す。ただし、角の大きさは**弧度法〔rad〕**で指定しなければならない。\n",
    "***"
   ]
  },
  {
   "cell_type": "markdown",
   "metadata": {},
   "source": [
    "**＜公式6-2a＞**  \n",
    "\n",
    "**`math.radians(引数)`**  \n",
    "\n",
    "意味：引数で指定された60分法〔°〕で表された角の大きさを**弧度法〔rad〕**で表された角の大きさに変換する。  \n",
    "***"
   ]
  },
  {
   "cell_type": "markdown",
   "metadata": {},
   "source": [
    "**＜公式6-2b＞**  \n",
    "\n",
    "**`math.degrees(引数)`**  \n",
    "\n",
    "意味：引数で指定された弧度法〔rad〕で表された角の大きさを**60分法〔°〕**で表された角の大きさに変換する。  \n",
    "***"
   ]
  },
  {
   "cell_type": "markdown",
   "metadata": {},
   "source": [
    "**■問題１（必須）．**  \n",
    "□1. 上の公式と下の図を参考にして、教科書p.121の**練習問題1**のプログラム(関数**`takakukei(x0, y0, r, n)`**)を完成せよ。ただし、教科書のプログラムの空欄部分のある行は、空行にしてある："
   ]
  },
  {
   "cell_type": "markdown",
   "metadata": {},
   "source": [
    "![多角形](./figs/Fig1.png)"
   ]
  },
  {
   "cell_type": "code",
   "execution_count": 2,
   "metadata": {},
   "outputs": [],
   "source": [
    "import math\n",
    "import turtle\n",
    "\n",
    "t = turtle.Turtle()"
   ]
  },
  {
   "cell_type": "code",
   "execution_count": 2,
   "metadata": {},
   "outputs": [],
   "source": [
    "def takakukei(x0, y0, r, n):\n",
    "    t.pu()\n",
    "    t.setpos(x0, y0)\n",
    "    t.dot(10)\n",
    "    t.fd(r)\n",
    "    t.pd()\n",
    "    t.lt(90 + 180/n)\n",
    "    for i in range(0, n):\n",
    "        t.fd(2 * r * math.cos(math.radians(90 - 180/n)))\n",
    "        t.lt(360 / n)\n",
    "    t.pu()\n",
    "    t.setpos(x0, y0)\n",
    "    t.seth(0)  #カメを真東(右)に向ける"
   ]
  },
  {
   "cell_type": "markdown",
   "metadata": {},
   "source": [
    "□2. `takakukei`関数を用いて、半径と角数の異なる多角形を５個描き、図形のキャプチャを`学生番号-6_2-1.png`で保存せよ。  \n",
    "> 【画面キャプチャの撮り方】  \n",
    "> (1) **`[スタート]`**メニューをクリック  \n",
    "> (2) **`[Windowsアクセサリ]`**の**`[Snipping Tool]`**を選択  \n",
    "> (3) **`「Snipping Tool」`**ウィンドウの**`[新規作成]`**ボタンをクリック  \n",
    "> (4) キャプチャを撮りたい画面範囲を選択  \n",
    "> (5) **`[ファイル]`**メニューから**`[名前を付けて保存]`**を選択  \n",
    "> (6) フォルダとファイル名を変更して、**`[保存]`**ボタンをクリック"
   ]
  },
  {
   "cell_type": "code",
   "execution_count": 3,
   "metadata": {},
   "outputs": [],
   "source": [
    "takakukei(50, 50, 100, 5)"
   ]
  },
  {
   "cell_type": "code",
   "execution_count": 4,
   "metadata": {},
   "outputs": [],
   "source": [
    "takakukei(50, -50, 110, 6)"
   ]
  },
  {
   "cell_type": "code",
   "execution_count": 5,
   "metadata": {},
   "outputs": [],
   "source": [
    "takakukei(-50, 50, 120, 7)"
   ]
  },
  {
   "cell_type": "code",
   "execution_count": 6,
   "metadata": {},
   "outputs": [],
   "source": [
    "takakukei(-50, -50, 130, 8)"
   ]
  },
  {
   "cell_type": "code",
   "execution_count": 7,
   "metadata": {},
   "outputs": [],
   "source": [
    "takakukei(0, 0, 200, 3)"
   ]
  },
  {
   "cell_type": "markdown",
   "metadata": {},
   "source": [
    "*****"
   ]
  },
  {
   "cell_type": "markdown",
   "metadata": {},
   "source": [
    "**■問題２（加点）．**  \n",
    "□1. 教科書p.123の**練習問題2**の関数(プログラム)を作成せよ。ただし、関数は**`multi_takakukei(x0, y0, n, p)`**とし、`x0`、`y0`をそれぞれ外接円の中心の$x$座標と$y$座標、`n`を正多角形の角数、`p`を多角形の個数とする。また、多角形の同心外接円の半径$r$は、**最小の円で15ピクセル**、**他の円は15ピクセルずつ大きくなる**ようにすること$^{*)}$。\n",
    "> $*)$ つまり、$r=15,30,45,60,...$  \n",
    "\n",
    "**※) ヒント：** `for文`の入れ子になる。問題１のプログラムのどこかの行に  \n",
    "**`for j in range(p):`**  \n",
    "が入る。さらに、外接円半径`r`は上の**`for`文内の`j`に連動**して、  \n",
    "**`r = (j + 1) * 15`**  \n",
    "となる。"
   ]
  },
  {
   "cell_type": "code",
   "execution_count": 5,
   "metadata": {},
   "outputs": [],
   "source": [
    "def multi_takakukei(x0, y0, n, p):\n",
    "    t.pu()\n",
    "    t.setpos(x0, y0)\n",
    "    t.dot(10)\n",
    "    for j in range(p):\n",
    "        r = (j + 1) * 15\n",
    "        t.fd(r)\n",
    "        t.pd()\n",
    "        t.lt(90 + 180/n)\n",
    "        for i in range(0, n):\n",
    "            t.fd(2 * r * math.cos(math.radians(90 - 180/n)))\n",
    "            t.lt(360 / n)\n",
    "        t.pu()\n",
    "        t.setpos(x0, y0)\n",
    "        t.seth(0)  #カメを真東(右)に向ける"
   ]
  },
  {
   "cell_type": "markdown",
   "metadata": {},
   "source": [
    "□2. `multi_takakukei`関数を用いて、異なる多重多角形の図を３つ描き、図形のキャプチャを`学生番号-6_2-2.png`で保存せよ。："
   ]
  },
  {
   "cell_type": "code",
   "execution_count": 6,
   "metadata": {},
   "outputs": [],
   "source": [
    " multi_takakukei(50, 50, 10, 10)"
   ]
  },
  {
   "cell_type": "code",
   "execution_count": 7,
   "metadata": {},
   "outputs": [],
   "source": [
    " multi_takakukei(50, -50, 5, 12)"
   ]
  },
  {
   "cell_type": "code",
   "execution_count": 8,
   "metadata": {},
   "outputs": [],
   "source": [
    " multi_takakukei(-50, -50, 3, 15)"
   ]
  },
  {
   "cell_type": "markdown",
   "metadata": {},
   "source": [
    "**■問題３（加点）．**"
   ]
  },
  {
   "cell_type": "markdown",
   "metadata": {},
   "source": [
    "□1. 次のような出力をする関数**`bekijo_wa(*vals, n=1)`**を完成せよ（下プログラムの空行を埋めて完成せよ）：  \n",
    "```\n",
    "bekijo_wa(1,2,3)\n",
    "(1, 2, 3)の各数の1乗の和 = 6  \n",
    "\n",
    "bekijo_wa(1,2,3,4,5,6,n=2)\n",
    "(1, 2, 3, 4, 5, 6)の各数の2乗の和 = 91  \n",
    "\n",
    "bekijo_wa()  \n",
    "()の各数の1乗の和 = 0  \n",
    "\n",
    "bekijo_wa(n=2)  \n",
    "()の各数の2乗の和 = 0\n",
    "```"
   ]
  },
  {
   "cell_type": "code",
   "execution_count": 1,
   "metadata": {},
   "outputs": [],
   "source": [
    "def bekijo_wa(*vals, n=1):\n",
    "    s = 0\n",
    "    for i in vals:\n",
    "        s += i ** n\n",
    "    print(f'{vals}の各数の{n}乗の和 = {s}')"
   ]
  },
  {
   "cell_type": "markdown",
   "metadata": {},
   "source": [
    "□2. `bekijo_wa`関数をいくつかの例で実行せよ。"
   ]
  },
  {
   "cell_type": "code",
   "execution_count": 3,
   "metadata": {},
   "outputs": [
    {
     "name": "stdout",
     "output_type": "stream",
     "text": [
      "(1, 2, 3)の各数の2乗の和 = 14\n"
     ]
    }
   ],
   "source": [
    "bekijo_wa(1,2,3, n=2)"
   ]
  },
  {
   "cell_type": "code",
   "execution_count": 5,
   "metadata": {},
   "outputs": [
    {
     "name": "stdout",
     "output_type": "stream",
     "text": [
      "(2, 9, 8, 4, 3)の各数の5乗の和 = 93116\n"
     ]
    }
   ],
   "source": [
    "bekijo_wa(2,9,8,4,3, n=5)"
   ]
  },
  {
   "cell_type": "code",
   "execution_count": 6,
   "metadata": {},
   "outputs": [
    {
     "name": "stdout",
     "output_type": "stream",
     "text": [
      "(4, 8, 9, 9, -15, 8, -3)の各数の3乗の和 = -856\n"
     ]
    }
   ],
   "source": [
    "bekijo_wa(4,8,9,9,-15,8,-3, n=3)"
   ]
  },
  {
   "cell_type": "code",
   "execution_count": null,
   "metadata": {},
   "outputs": [],
   "source": []
  }
 ],
 "metadata": {
  "kernelspec": {
   "display_name": "Python 3",
   "language": "python",
   "name": "python3"
  },
  "language_info": {
   "codemirror_mode": {
    "name": "ipython",
    "version": 3
   },
   "file_extension": ".py",
   "mimetype": "text/x-python",
   "name": "python",
   "nbconvert_exporter": "python",
   "pygments_lexer": "ipython3",
   "version": "3.6.5"
  }
 },
 "nbformat": 4,
 "nbformat_minor": 2
}

{
 "cells": [
  {
   "cell_type": "markdown",
   "metadata": {},
   "source": [
    "# 3.2-3.4の課題  "
   ]
  },
  {
   "cell_type": "markdown",
   "metadata": {},
   "source": [
    "学生番号："
   ]
  },
  {
   "cell_type": "markdown",
   "metadata": {},
   "source": [
    "氏　　名："
   ]
  },
  {
   "cell_type": "markdown",
   "metadata": {},
   "source": [
    "###  \n",
    "###  ■１．数値リストに関する、次の問題に答えよ。"
   ]
  },
  {
   "cell_type": "markdown",
   "metadata": {},
   "source": [
    "□1-1. 君の誕生年から５歳になるまでの各年を順に並べて、`ylist1`という変数名のリストをつくり、`ylist1`の内容を`print`関数を用いて表示せよ（１つのセルで行うこと）："
   ]
  },
  {
   "cell_type": "code",
   "execution_count": 1,
   "metadata": {},
   "outputs": [
    {
     "name": "stdout",
     "output_type": "stream",
     "text": [
      "[1961, 1962, 1963, 1964, 1965, 1966]\n"
     ]
    }
   ],
   "source": [
    "ylist1 = [1961, 1962, 1963, 1964, 1965,1966]\n",
    "print(ylist1)"
   ]
  },
  {
   "cell_type": "markdown",
   "metadata": {},
   "source": [
    "> 例えば誕生年が1993年の場合、`ylist1`は`[1993, 1994, 1995, 1996, 1997, 1998]`となる。"
   ]
  },
  {
   "cell_type": "markdown",
   "metadata": {},
   "source": [
    "□1-2. 1歳と4歳のときの年を`ylist1`から要素を取り出して、`print`関数を用いて横に並べて表示せよ："
   ]
  },
  {
   "cell_type": "code",
   "execution_count": 2,
   "metadata": {},
   "outputs": [
    {
     "name": "stdout",
     "output_type": "stream",
     "text": [
      "1962 1965\n"
     ]
    }
   ],
   "source": [
    "print(ylist1[1], ylist1[4])"
   ]
  },
  {
   "cell_type": "markdown",
   "metadata": {},
   "source": [
    "> ヒント：`print(ylist1[...], ylist1[...])`。"
   ]
  },
  {
   "cell_type": "markdown",
   "metadata": {},
   "source": [
    "□1-3. `ylist1`の要素の中で最年長の年を取り出せ："
   ]
  },
  {
   "cell_type": "code",
   "execution_count": 3,
   "metadata": {},
   "outputs": [
    {
     "data": {
      "text/plain": [
       "1966"
      ]
     },
     "execution_count": 3,
     "metadata": {},
     "output_type": "execute_result"
    }
   ],
   "source": [
    "ylist1[-1]"
   ]
  },
  {
   "cell_type": "markdown",
   "metadata": {},
   "source": [
    "□1-4. `ylist2`という変数に６歳から10歳になるまでの各年のリストを作り、`ylist2`の内容を`print`関数を用いて表示せよ（１つのセルで行うこと）："
   ]
  },
  {
   "cell_type": "code",
   "execution_count": 4,
   "metadata": {},
   "outputs": [
    {
     "name": "stdout",
     "output_type": "stream",
     "text": [
      "[1967, 1968, 1969, 1970, 1971]\n"
     ]
    }
   ],
   "source": [
    "ylist2 = [1967, 1968, 1969, 1970, 1971]\n",
    "print(ylist2)"
   ]
  },
  {
   "cell_type": "markdown",
   "metadata": {},
   "source": [
    "□1-5. 誕生年から10歳になるまでの各年のリストを`ylist1`と`ylist2`を使ってつくって`ylist3`とういう変数に代入し、`ylist3`の内容を`print`関数を用いて表示せよ（１つのセルで行うこと）："
   ]
  },
  {
   "cell_type": "code",
   "execution_count": 5,
   "metadata": {},
   "outputs": [
    {
     "name": "stdout",
     "output_type": "stream",
     "text": [
      "[1961, 1962, 1963, 1964, 1965, 1966, 1967, 1968, 1969, 1970, 1971]\n"
     ]
    }
   ],
   "source": [
    "ylist3 = ylist1 + ylist2\n",
    "print(ylist3)"
   ]
  },
  {
   "cell_type": "markdown",
   "metadata": {},
   "source": [
    "□1-6. 7歳と9歳のときの年を`ylist3`から要素を取り出して、`print`関数を用いて横に並べて表示せよ："
   ]
  },
  {
   "cell_type": "code",
   "execution_count": 6,
   "metadata": {},
   "outputs": [
    {
     "name": "stdout",
     "output_type": "stream",
     "text": [
      "1968 1970\n"
     ]
    }
   ],
   "source": [
    "print(ylist3[7], ylist3[9])"
   ]
  },
  {
   "cell_type": "markdown",
   "metadata": {},
   "source": [
    "□1-7. `ylist3`の要素数を`len`関数を用いて求めよ："
   ]
  },
  {
   "cell_type": "code",
   "execution_count": 7,
   "metadata": {},
   "outputs": [
    {
     "data": {
      "text/plain": [
       "11"
      ]
     },
     "execution_count": 7,
     "metadata": {},
     "output_type": "execute_result"
    }
   ],
   "source": [
    "len(ylist3)"
   ]
  },
  {
   "cell_type": "markdown",
   "metadata": {},
   "source": [
    "###    \n",
    "### ■２．文字列リストに関する、次の問題に答えよ。"
   ]
  },
  {
   "cell_type": "markdown",
   "metadata": {},
   "source": [
    "□2-1. ４つの文字列 'pizza', 'tree-frog', 'Newton', 'flu' (「ピザ」,「アマガエル」,「ニュートン」,「インフルエンザ」)を要素とする変数名`tlist`というリストをつくり、`tlist`の内容を`print`関数を用いて表示せよ（１つのセルで行うこと）："
   ]
  },
  {
   "cell_type": "code",
   "execution_count": 8,
   "metadata": {},
   "outputs": [
    {
     "name": "stdout",
     "output_type": "stream",
     "text": [
      "['pizza', 'tree-frog', 'Newton', 'flu']\n"
     ]
    }
   ],
   "source": [
    "tlist = ['pizza', 'tree-frog', 'Newton', 'flu']\n",
    "print(tlist)"
   ]
  },
  {
   "cell_type": "markdown",
   "metadata": {},
   "source": [
    "□2-2. `tlist`から人間の要素を取り出せ："
   ]
  },
  {
   "cell_type": "code",
   "execution_count": 9,
   "metadata": {},
   "outputs": [
    {
     "data": {
      "text/plain": [
       "'Newton'"
      ]
     },
     "execution_count": 9,
     "metadata": {},
     "output_type": "execute_result"
    }
   ],
   "source": [
    "tlist[2]"
   ]
  },
  {
   "cell_type": "markdown",
   "metadata": {},
   "source": [
    "□2-3. `tlist`の中で病気の要素を`pop`メソッドを用いて取り除き、`tlist`を`print`関数を用いて表示せよ（１つのセルで行うこと）:"
   ]
  },
  {
   "cell_type": "code",
   "execution_count": 10,
   "metadata": {},
   "outputs": [
    {
     "name": "stdout",
     "output_type": "stream",
     "text": [
      "['pizza', 'tree-frog', 'Newton']\n"
     ]
    }
   ],
   "source": [
    "tlist.pop(3)\n",
    "print(tlist)"
   ]
  },
  {
   "cell_type": "markdown",
   "metadata": {},
   "source": [
    "□2-4. `tlist`に 'lizard' (「トカゲ」)を付け加えて、`tlist`を`print`関数を用いて表示せよ（１つのセルで行うこと）："
   ]
  },
  {
   "cell_type": "code",
   "execution_count": 11,
   "metadata": {},
   "outputs": [
    {
     "name": "stdout",
     "output_type": "stream",
     "text": [
      "['pizza', 'tree-frog', 'Newton', 'lizard']\n"
     ]
    }
   ],
   "source": [
    "tlist.append('lizard')\n",
    "print(tlist)"
   ]
  },
  {
   "cell_type": "markdown",
   "metadata": {},
   "source": [
    "□2-5. `tlist`の両生類の要素と人間の要素の間に、'rose'（「バラ」）を付けくわて、`tlist`を`print`関数を用いて表示せよ（１つのセルで行うこと）："
   ]
  },
  {
   "cell_type": "code",
   "execution_count": 12,
   "metadata": {},
   "outputs": [
    {
     "name": "stdout",
     "output_type": "stream",
     "text": [
      "['pizza', 'tree-frog', 'rose', 'Newton', 'lizard']\n"
     ]
    }
   ],
   "source": [
    "tlist.insert(2, 'rose')\n",
    "print(tlist)"
   ]
  },
  {
   "cell_type": "markdown",
   "metadata": {},
   "source": [
    "□2-6. `tlist`の人間の要素を'Einstein'に変更し、`tlist`を`print`関数を用いて表示せよ（１つのセルで行うこと）："
   ]
  },
  {
   "cell_type": "code",
   "execution_count": 13,
   "metadata": {},
   "outputs": [
    {
     "name": "stdout",
     "output_type": "stream",
     "text": [
      "['pizza', 'tree-frog', 'rose', 'Einstein', 'lizard']\n"
     ]
    }
   ],
   "source": [
    "tlist[3] = 'Einstein'\n",
    "print(tlist)"
   ]
  },
  {
   "cell_type": "markdown",
   "metadata": {},
   "source": [
    "□2-7. `tlist`の花の要素を`remove`にメソッドで取り除き、`tlist`を`print`関数を用いて表示せよ（１つのセルで行うこと）："
   ]
  },
  {
   "cell_type": "code",
   "execution_count": 14,
   "metadata": {},
   "outputs": [
    {
     "name": "stdout",
     "output_type": "stream",
     "text": [
      "['pizza', 'tree-frog', 'Einstein', 'lizard']\n"
     ]
    }
   ],
   "source": [
    "tlist.remove('rose')\n",
    "print(tlist)"
   ]
  },
  {
   "cell_type": "markdown",
   "metadata": {},
   "source": [
    "###  \n",
    "### ■３．辞書に関する、次の問題に答えよ。"
   ]
  },
  {
   "cell_type": "markdown",
   "metadata": {},
   "source": [
    "□3-1. 'cat', 'dog', 'mouse', 'rabit', 'tortoise'をキーとし，それぞれのキーの日本語訳(ひらがな)をデータとする辞書を E2J という変数につくり、E2Jの内容を表示せよ："
   ]
  },
  {
   "cell_type": "code",
   "execution_count": 15,
   "metadata": {},
   "outputs": [],
   "source": [
    "E2J = {'cat':'ねこ', 'dog':'いぬ', 'mouse':'ねずみ', 'rabit':'うさぎ', 'tortoise':'かめ'}"
   ]
  },
  {
   "cell_type": "markdown",
   "metadata": {},
   "source": [
    "□3-2. 辞書 E2J から 'mouse' と 'dog' の日本語訳を得よ（１つのセルで行うこと）："
   ]
  },
  {
   "cell_type": "code",
   "execution_count": 16,
   "metadata": {},
   "outputs": [
    {
     "name": "stdout",
     "output_type": "stream",
     "text": [
      "ねずみ いぬ\n"
     ]
    }
   ],
   "source": [
    "print(E2J['mouse'], E2J['dog'])"
   ]
  },
  {
   "cell_type": "markdown",
   "metadata": {},
   "source": [
    "□3-3. 辞書 E2J にキーが 'wolf' でデータが 'おおかみ' の要素を付け加え、E2J から 'wolf' の日本語訳を表示せよ（１つのセルで行うこと）："
   ]
  },
  {
   "cell_type": "code",
   "execution_count": 17,
   "metadata": {},
   "outputs": [
    {
     "data": {
      "text/plain": [
       "'おおかみ'"
      ]
     },
     "execution_count": 17,
     "metadata": {},
     "output_type": "execute_result"
    }
   ],
   "source": [
    "E2J['wolf'] = 'おおかみ'\n",
    "E2J['wolf']"
   ]
  },
  {
   "cell_type": "markdown",
   "metadata": {},
   "source": [
    "3-4. 辞書 E2J の中のキー  'tortoise' の要素を削除し，E2J の内容を表示せよ（１つのセルで行うこと）："
   ]
  },
  {
   "cell_type": "code",
   "execution_count": 18,
   "metadata": {},
   "outputs": [
    {
     "name": "stdout",
     "output_type": "stream",
     "text": [
      "{'cat': 'ねこ', 'dog': 'いぬ', 'mouse': 'ねずみ', 'rabit': 'うさぎ', 'wolf': 'おおかみ'}\n"
     ]
    }
   ],
   "source": [
    "E2J.pop('tortoise')\n",
    "print(E2J)"
   ]
  },
  {
   "cell_type": "code",
   "execution_count": null,
   "metadata": {},
   "outputs": [],
   "source": []
  }
 ],
 "metadata": {
  "kernelspec": {
   "display_name": "Python 3 (ipykernel)",
   "language": "python",
   "name": "python3"
  },
  "language_info": {
   "codemirror_mode": {
    "name": "ipython",
    "version": 3
   },
   "file_extension": ".py",
   "mimetype": "text/x-python",
   "name": "python",
   "nbconvert_exporter": "python",
   "pygments_lexer": "ipython3",
   "version": "3.11.5"
  }
 },
 "nbformat": 4,
 "nbformat_minor": 4
}

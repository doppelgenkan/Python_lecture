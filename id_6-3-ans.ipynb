{
 "cells": [
  {
   "cell_type": "markdown",
   "metadata": {},
   "source": [
    "# 課題6.3\n",
    "***"
   ]
  },
  {
   "cell_type": "markdown",
   "metadata": {},
   "source": [
    "学籍番号："
   ]
  },
  {
   "cell_type": "markdown",
   "metadata": {},
   "source": [
    "氏　　名："
   ]
  },
  {
   "cell_type": "markdown",
   "metadata": {},
   "source": [
    "***"
   ]
  },
  {
   "cell_type": "markdown",
   "metadata": {},
   "source": [
    "**＜公式6-3＞**  \n",
    "\n",
    "**`int(引数)`**  \n",
    "\n",
    "意味：引数で指定された実数の**整数部を返す(小数部を切り捨てる)**。\n",
    "***"
   ]
  },
  {
   "cell_type": "markdown",
   "metadata": {},
   "source": [
    "**■問題１（必須）．**  \n",
    "□1. 教科書p.124の練習問題4の変形である。課税前の金額が与えられたとき、`(消費税, 課税後の金額)`というタプル$^{*)}$を返す関数**`zeikomi(net)`**をプログラムせよ。ただし、引数の`net`は課税前金額の引数であり、戻り値タプル内の`消費税`, `課税後の金額`は小数部を切り捨てること。  \n",
    "> $*)$ タプルの代わりに**リスト**や**辞書**を使うこともできる。"
   ]
  },
  {
   "cell_type": "code",
   "execution_count": 1,
   "metadata": {},
   "outputs": [],
   "source": [
    "def zeikomi(net):\n",
    "    tax = int(net * 0.08)\n",
    "    return (tax, net + tax)"
   ]
  },
  {
   "cell_type": "markdown",
   "metadata": {},
   "source": [
    "□2. `zeikomi`関数の引数に適当な課税前金額を入力して、どのようなタプルが返されるかを確かめよ："
   ]
  },
  {
   "cell_type": "code",
   "execution_count": 2,
   "metadata": {},
   "outputs": [
    {
     "data": {
      "text/plain": [
       "(9876, 133332)"
      ]
     },
     "execution_count": 2,
     "metadata": {},
     "output_type": "execute_result"
    }
   ],
   "source": [
    "zeikomi(123456)"
   ]
  },
  {
   "cell_type": "markdown",
   "metadata": {},
   "source": [
    "□3. 次のような伝票を出力をする**`denpyo(net)`**関数を下のプログラムの**`???`**の部分を埋めて完成せよ。ただし、消費税と合計金額の算出部分は`zeikomi`関数を利用すること：  \n",
    "\n",
    "＜実行例>\n",
    "```\n",
    "denpyo(1345672)   　　　←入力\n",
    "\n",
    "\n",
    "　　【伝　票】  \n",
    "  \n",
    "税抜金額　¥1345672　　　　←出力\n",
    "＋消費税　¥107653\n",
    "-----------------\n",
    "税込金額　¥1453325\n",
    "```"
   ]
  },
  {
   "cell_type": "code",
   "execution_count": 3,
   "metadata": {},
   "outputs": [],
   "source": [
    "def denpyo(net):\n",
    "    kingaku = zeikomi(net)\n",
    "    print(' 　 【伝　票】')\n",
    "    print()\n",
    "    print(f'税抜金額　¥{net}')\n",
    "    print(f'＋消費税　¥{kingaku[0]}')\n",
    "    print('-----------------')\n",
    "    print(f'税込金額　¥{kingaku[1]}')"
   ]
  },
  {
   "cell_type": "markdown",
   "metadata": {},
   "source": [
    "□4. `denpyo`関数に適当な課税前金額を入力して、伝票を出力せよ："
   ]
  },
  {
   "cell_type": "code",
   "execution_count": 4,
   "metadata": {},
   "outputs": [
    {
     "name": "stdout",
     "output_type": "stream",
     "text": [
      " 　 【伝　票】\n",
      "\n",
      "税抜金額　¥123456\n",
      "＋消費税　¥9876\n",
      "-----------------\n",
      "税込金額　¥133332\n"
     ]
    }
   ],
   "source": [
    "denpyo(123456)"
   ]
  },
  {
   "cell_type": "markdown",
   "metadata": {},
   "source": [
    "###  \n",
    "***\n",
    "**＜公式6-4＞**  \n",
    "\n",
    "**`math.pi`**  \n",
    "\n",
    "意味：(小数第15位までの)**円周率**を与える。  \n",
    "※）**`math`**モジュールをインポートしておくこと。\n",
    "***"
   ]
  },
  {
   "cell_type": "markdown",
   "metadata": {},
   "source": [
    "**■問題２（必須）**  \n",
    "□1. 教科書p.124の練習問題5の変形である。**半径`r`**の引数をもち、次のような**辞書を返す**関数**`kyu(r)`**をプログラムせよ。ただし、球の表面積$S$、体積$V$は次式で与えられる：  \n",
    "$$S = 4\\pi r^2,\\ \\ \\ V = \\frac{4}{3}\\pi r^3$$  \n",
    "\n",
    "＜実行例＞  \n",
    "```\n",
    "kyu(6)  ←半径(引数)6で実行\n",
    "\n",
    "{'半径': 6, '表面積': 452.3893421169302, '体積': 904.7786842338603}   ←戻り値\n",
    "```"
   ]
  },
  {
   "cell_type": "code",
   "execution_count": 5,
   "metadata": {},
   "outputs": [],
   "source": [
    "import math\n",
    "\n",
    "def kyu(r):\n",
    "    s = 4 * math.pi * r**2\n",
    "    v = (4/3) * math.pi * r**3\n",
    "    return {'半径':r, '表面積':s ,'体積':v}"
   ]
  },
  {
   "cell_type": "markdown",
   "metadata": {},
   "source": [
    "□2. **6以外**の異る３つの半径で、`kyu`関数を実行し結果を得よ："
   ]
  },
  {
   "cell_type": "code",
   "execution_count": 6,
   "metadata": {},
   "outputs": [
    {
     "data": {
      "text/plain": [
       "{'半径': 2.5, '表面積': 78.53981633974483, '体積': 65.44984694978736}"
      ]
     },
     "execution_count": 6,
     "metadata": {},
     "output_type": "execute_result"
    }
   ],
   "source": [
    "kyu(2.5)"
   ]
  },
  {
   "cell_type": "code",
   "execution_count": 7,
   "metadata": {},
   "outputs": [
    {
     "data": {
      "text/plain": [
       "{'半径': 10, '表面積': 1256.6370614359173, '体積': 4188.790204786391}"
      ]
     },
     "execution_count": 7,
     "metadata": {},
     "output_type": "execute_result"
    }
   ],
   "source": [
    "kyu(10)"
   ]
  },
  {
   "cell_type": "code",
   "execution_count": 8,
   "metadata": {},
   "outputs": [
    {
     "data": {
      "text/plain": [
       "{'半径': 12000, '表面積': 1809557368.4677207, '体積': 7238229473870.883}"
      ]
     },
     "execution_count": 8,
     "metadata": {},
     "output_type": "execute_result"
    }
   ],
   "source": [
    "kyu(12000)"
   ]
  },
  {
   "cell_type": "markdown",
   "metadata": {},
   "source": [
    "##      \n",
    "\n",
    "***\n",
    "**＜公式6-5＞**  \n",
    "\n",
    "**`math.sqrt(引数)`**  \n",
    "\n",
    "意味：引数の**平方根(ルートの値)**を返す。  \n",
    "※）`math`モジュールをインポートしておくこと。  \n",
    "***"
   ]
  },
  {
   "cell_type": "markdown",
   "metadata": {},
   "source": [
    "**■問題３（必須）**  \n",
    "□1. 教科書p.124の練習問題６の変形である。３次元ベクトル(の成分表示)をリスト引数`vec`として、そのベクトルの長さを返す関数**`nagasa(vec)`**を下のプログラムの**`???`**の部分を埋めて完成せよ。  \n",
    "※）教科書と少し異なっているので注意せよ。"
   ]
  },
  {
   "cell_type": "code",
   "execution_count": 9,
   "metadata": {},
   "outputs": [],
   "source": [
    "import math\n",
    "\n",
    "def nagasa(vec):\n",
    "    nijowa = 0\n",
    "    for x in vec:\n",
    "        nijowa += x ** 2\n",
    "    return math.sqrt(nijowa)"
   ]
  },
  {
   "cell_type": "markdown",
   "metadata": {},
   "source": [
    "□2. 適当な２つのベクトル`p`、`q`(の成分表示)をリストとして定義し、それぞれのベクトルの長さを求めよ："
   ]
  },
  {
   "cell_type": "code",
   "execution_count": 10,
   "metadata": {},
   "outputs": [
    {
     "data": {
      "text/plain": [
       "7.874007874011811"
      ]
     },
     "execution_count": 10,
     "metadata": {},
     "output_type": "execute_result"
    }
   ],
   "source": [
    "nagasa([1, -6, 5])"
   ]
  },
  {
   "cell_type": "code",
   "execution_count": 11,
   "metadata": {},
   "outputs": [
    {
     "data": {
      "text/plain": [
       "18.027756377319946"
      ]
     },
     "execution_count": 11,
     "metadata": {},
     "output_type": "execute_result"
    }
   ],
   "source": [
    "nagasa([-6, -8, 15])"
   ]
  },
  {
   "cell_type": "code",
   "execution_count": 12,
   "metadata": {},
   "outputs": [
    {
     "data": {
      "text/plain": [
       "104.2688831818966"
      ]
     },
     "execution_count": 12,
     "metadata": {},
     "output_type": "execute_result"
    }
   ],
   "source": [
    "nagasa([52, -38, -82])"
   ]
  },
  {
   "cell_type": "markdown",
   "metadata": {},
   "source": [
    "###  \n",
    "\n",
    "***\n",
    "**＜公式6-6＞**  \n",
    "\n",
    "**`for 変数1, 変数2 in zip(リスト1, リスト2):`**  \n",
    "\n",
    "意味：`for`ループ内で２つの`リスト1`, `リスト2`から**同時に要素を取り出し**、それぞれを`変数1`、`変数2`に代入して繰り返し処理を行う。  \n",
    "\n",
    "＜実行例1＞  \n",
    "```\n",
    "for sei, mei in zip(['花屋敷', '緑丘', '奥万田'], ['一郎', '町子', '三助']):\n",
    "    print(sei, mei)\n",
    "\n",
    "花屋敷 一郎\n",
    "緑丘 町子\n",
    "奥万田 三助\n",
    "```  \n",
    "\n",
    "＜実行例2＞  \n",
    "```\n",
    "for i, j in zip([11, 12, 13, 14], [21, 22, 23, 24]):\n",
    "    print(f'{i} × {j} = {i * j}')\n",
    "\n",
    "11 × 21 = 231\n",
    "12 × 22 = 264\n",
    "13 × 23 = 299\n",
    "14 × 24 = 336\n",
    "```\n",
    "***"
   ]
  },
  {
   "cell_type": "markdown",
   "metadata": {},
   "source": [
    "**■問題４（加点）**  \n",
    "□1. 教科書p.125の練習問題8の変形である。２つの３次元ベクトル(の成分表示)をリスト引数`vec1`、`vec2`として、内積の値を返す関数**`naiseki(vec1, vec2)`**を下のプログラムの**`???`**の部分を埋めて完成せよ。"
   ]
  },
  {
   "cell_type": "code",
   "execution_count": 13,
   "metadata": {},
   "outputs": [],
   "source": [
    "import math\n",
    "\n",
    "def naiseki(vec1, vec2):\n",
    "    sekiwa = 0\n",
    "    for x1, x2 in zip(vec1, vec2):\n",
    "        sekiwa += x1 * x2\n",
    "    return sekiwa"
   ]
  },
  {
   "cell_type": "markdown",
   "metadata": {},
   "source": [
    "□2. ３つのベクトル`u`、`v`、`w`(の成分表示)を(リストとして)適当にとり、`u`と`v`、`u`と`w`、`v`と`w`の内積を求めよ："
   ]
  },
  {
   "cell_type": "code",
   "execution_count": 14,
   "metadata": {},
   "outputs": [],
   "source": [
    "u = [2, -9, 7]\n",
    "v = [-8, 0, 5]\n",
    "w = [4, -8, 6]"
   ]
  },
  {
   "cell_type": "code",
   "execution_count": 15,
   "metadata": {},
   "outputs": [
    {
     "data": {
      "text/plain": [
       "19"
      ]
     },
     "execution_count": 15,
     "metadata": {},
     "output_type": "execute_result"
    }
   ],
   "source": [
    "naiseki(u, v)"
   ]
  },
  {
   "cell_type": "code",
   "execution_count": 16,
   "metadata": {},
   "outputs": [
    {
     "data": {
      "text/plain": [
       "122"
      ]
     },
     "execution_count": 16,
     "metadata": {},
     "output_type": "execute_result"
    }
   ],
   "source": [
    "naiseki(u, w)"
   ]
  },
  {
   "cell_type": "code",
   "execution_count": 17,
   "metadata": {},
   "outputs": [
    {
     "data": {
      "text/plain": [
       "-2"
      ]
     },
     "execution_count": 17,
     "metadata": {},
     "output_type": "execute_result"
    }
   ],
   "source": [
    "naiseki(v, w)"
   ]
  },
  {
   "cell_type": "markdown",
   "metadata": {},
   "source": [
    "###  \n",
    "***\n",
    "**＜公式6-7a＞**  \n",
    "\n",
    "**`math.asin(引数)`**  \n",
    "\n",
    "意味：`引数`の**逆正弦関数**（$\\sin^{-1}(引数)$）の値を(主値の範囲で)返す。ただし、戻り値はラジアンである。  \n",
    "※）**`math`**モジュールをインポートしておくこと。\n",
    "***\n",
    "**＜公式6-7b＞**  \n",
    "\n",
    "**`math.acos(引数)`**  \n",
    "\n",
    "意味：`引数`の**逆余弦関数**（$\\cos^{-1}(引数)$）の値を(主値の範囲で)返す。ただし、戻り値はラジアンである。  \n",
    "※）**`math`**モジュールをインポートしておくこと。  \n",
    "***\n",
    "**＜公式6-7c＞**  \n",
    "\n",
    "**`math.atan(引数)`**  \n",
    "\n",
    "意味：`引数`の**逆正接関数**（$\\tan^{-1}(引数)$）の値を(主値の範囲で)返す。ただし、戻り値はラジアンである。  \n",
    "※）**`math`**モジュールをインポートしておくこと。  \n",
    "***"
   ]
  },
  {
   "cell_type": "markdown",
   "metadata": {},
   "source": [
    "**■問題５（加点）**  \n",
    "２つの３次元ベクトル(の成分表示)をリスト引数`vec1`、`vec2`として、これらのベクトルのなす角を返す関数**`nasukaku(vec1, vec2, rad=False)`**を問題３で作成したnagasa関数と問題４で作成したnaiseki関数を用いて、下のプログラムの???の部分を埋めて完成せよ。ただし、第3引数のオプション引数`rad=False`は、実行時にこれを省略した場合にはなす角を60分法〔°〕で返し、**`rad=True`**とした場合にはなす角を**ラジアン**で返すものとする。  \n",
    "> なお、ベクトル$\\bf a$と$\\bf b$のなす角は：\n",
    "> $$\\cos \\theta = \\frac{{\\bf a} \\cdot {\\bf b}}{|{\\bf a }| |{\\bf b }|},\\ \\ \\ \\ \\theta = \\cos^{-1}(\\cos \\theta)=\\cos^{-1}\\left(\\frac{{\\bf a} \\cdot {\\bf b}}{|{\\bf a }| |{\\bf b }|} \\right)$$\n",
    "> で与えられる。ここで、${\\bf a} \\cdot {\\bf b}$は$\\bf a$と$\\bf b$の内積、$|{\\bf a }|$と$|{\\bf b }|$はそれぞれ、$\\bf a$と$\\bf b$の大きさ(長さ)である。"
   ]
  },
  {
   "cell_type": "code",
   "execution_count": 18,
   "metadata": {},
   "outputs": [],
   "source": [
    "import math\n",
    "\n",
    "def nasukaku(vec1, vec2, rad=False):\n",
    "    costheta = naiseki(vec1, vec2) / (nagasa(vec1) * nagasa(vec2))   #cos(theta)を求める\n",
    "    theta = math.acos(costheta)   #ラジアンのthetaを求める\n",
    "    if not rad:\n",
    "        theta = math.degrees(theta)    #ラジアンのthetaを度に変換\n",
    "    return theta"
   ]
  },
  {
   "cell_type": "markdown",
   "metadata": {},
   "source": [
    "□2. ３つのベクトル`a`、`b`、`c`(の成分表示)を(リストとして)適当にとり、`a`と`b`、`b`と`c`、`c`と`a`のなす角を60分法とラジアンで求めよ："
   ]
  },
  {
   "cell_type": "code",
   "execution_count": 19,
   "metadata": {},
   "outputs": [],
   "source": [
    "a = [-5, 9, 4]\n",
    "b = [6, -7, -6]\n",
    "c = [3, 0, 7]"
   ]
  },
  {
   "cell_type": "code",
   "execution_count": 20,
   "metadata": {},
   "outputs": [
    {
     "name": "stdout",
     "output_type": "stream",
     "text": [
      "[-5, 9, 4]と[6, -7, -6]のなす角2.868610274054282[deg]\n",
      "[-5, 9, 4]と[6, -7, -6]のなす角164.3592617711768[rad]\n"
     ]
    }
   ],
   "source": [
    "print(f'{a}と{b}のなす角{nasukaku(a, b, rad=True)}[deg]')\n",
    "print(f'{a}と{b}のなす角{nasukaku(a, b)}[rad]')"
   ]
  },
  {
   "cell_type": "code",
   "execution_count": 21,
   "metadata": {},
   "outputs": [
    {
     "name": "stdout",
     "output_type": "stream",
     "text": [
      "[-5, 9, 4]と[6, -7, -6]のなす角1.4156314107259431[deg]\n",
      "[-5, 9, 4]と[6, -7, -6]のなす角81.10970518074731[rad]\n"
     ]
    }
   ],
   "source": [
    "print(f'{a}と{b}のなす角{nasukaku(a, c, rad=True)}[deg]')\n",
    "print(f'{a}と{b}のなす角{nasukaku(a, c)}[rad]')"
   ]
  },
  {
   "cell_type": "code",
   "execution_count": 22,
   "metadata": {},
   "outputs": [
    {
     "name": "stdout",
     "output_type": "stream",
     "text": [
      "[-5, 9, 4]と[6, -7, -6]のなす角1.8613542035917565[deg]\n",
      "[-5, 9, 4]と[6, -7, -6]のなす角106.64774004474222[rad]\n"
     ]
    }
   ],
   "source": [
    "print(f'{a}と{b}のなす角{nasukaku(c, b, rad=True)}[deg]')\n",
    "print(f'{a}と{b}のなす角{nasukaku(c, b)}[rad]')"
   ]
  },
  {
   "cell_type": "code",
   "execution_count": null,
   "metadata": {},
   "outputs": [],
   "source": []
  },
  {
   "cell_type": "code",
   "execution_count": null,
   "metadata": {},
   "outputs": [],
   "source": []
  },
  {
   "cell_type": "code",
   "execution_count": null,
   "metadata": {},
   "outputs": [],
   "source": []
  }
 ],
 "metadata": {
  "kernelspec": {
   "display_name": "Python 3",
   "language": "python",
   "name": "python3"
  },
  "language_info": {
   "codemirror_mode": {
    "name": "ipython",
    "version": 3
   },
   "file_extension": ".py",
   "mimetype": "text/x-python",
   "name": "python",
   "nbconvert_exporter": "python",
   "pygments_lexer": "ipython3",
   "version": "3.6.5"
  }
 },
 "nbformat": 4,
 "nbformat_minor": 2
}

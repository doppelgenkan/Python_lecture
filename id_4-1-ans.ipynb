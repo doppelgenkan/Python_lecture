{
 "cells": [
  {
   "cell_type": "markdown",
   "metadata": {
    "colab_type": "text",
    "id": "NkE99QyCSUo6"
   },
   "source": [
    "# 4.1の課題"
   ]
  },
  {
   "cell_type": "markdown",
   "metadata": {
    "colab_type": "text",
    "id": "EZJRo9G2SUo8"
   },
   "source": [
    "<a href=\"./docs/appendix_4.html\"><b>4章の補足公式</b></a>"
   ]
  },
  {
   "cell_type": "markdown",
   "metadata": {
    "colab_type": "text",
    "id": "5yn4CjiaSUo9"
   },
   "source": [
    "### ■1．プログラム名：`ticket1()`"
   ]
  },
  {
   "cell_type": "markdown",
   "metadata": {
    "colab_type": "text",
    "id": "VSzXALEESUo_"
   },
   "source": [
    "□1-1. 18歳以上の人が観ることできる映画がある。`input`関数で年齢を「年齢を入力してください：」と尋ね，入力後，条件を満たせば「1300円です」とチケット代を請求し，満たさない場合には「チケットを売れません」と表示するプログラムを作れ："
   ]
  },
  {
   "cell_type": "code",
   "execution_count": 1,
   "metadata": {
    "colab": {},
    "colab_type": "code",
    "id": "atG4InS2SUpA"
   },
   "outputs": [],
   "source": [
    "def ticket1():\n",
    "    y = int(input('年齢を入力してください：'))\n",
    "    if y >= 18:\n",
    "        print('1300円です')\n",
    "    else:\n",
    "        print('チケットを売れません')"
   ]
  },
  {
   "cell_type": "markdown",
   "metadata": {
    "colab_type": "text",
    "id": "J46-Xe_3SUpE"
   },
   "source": [
    "□1-2. `ticket1()`を18歳未満の場合で試せ："
   ]
  },
  {
   "cell_type": "code",
   "execution_count": 3,
   "metadata": {
    "colab": {},
    "colab_type": "code",
    "id": "ngaBabFhSUpF"
   },
   "outputs": [
    {
     "name": "stdout",
     "output_type": "stream",
     "text": [
      "チケットを売れません\n"
     ]
    }
   ],
   "source": [
    "ticket1()"
   ]
  },
  {
   "cell_type": "markdown",
   "metadata": {
    "colab_type": "text",
    "id": "tH2ydlOfSUpJ"
   },
   "source": [
    "□1-3. `ticket1()`を18歳以上で試せ："
   ]
  },
  {
   "cell_type": "code",
   "execution_count": 4,
   "metadata": {
    "colab": {},
    "colab_type": "code",
    "id": "jE5IYev8SUpK"
   },
   "outputs": [
    {
     "name": "stdout",
     "output_type": "stream",
     "text": [
      "1300円です\n"
     ]
    }
   ],
   "source": [
    "ticket1()"
   ]
  },
  {
   "cell_type": "markdown",
   "metadata": {
    "colab_type": "text",
    "id": "zglLZT1cSUpN"
   },
   "source": [
    "### ■2．プログラム名：`ticket2()`"
   ]
  },
  {
   "cell_type": "markdown",
   "metadata": {
    "colab_type": "text",
    "id": "i_cSc3YySUpO"
   },
   "source": [
    "□2-1. 18歳以上の人が観ることできる映画があり，女性専用日がある。`input`関数で年齢を「年齢を入力してください：」と尋ね，さらに性別を「性別を入力してください：」と尋ね，18歳以上で性別を入力後，18歳以上で性別が女の場合に「1300円です」とチケット代を請求し，それ以外の場合には「チケットを売れません」と表示するプログラムを作れ："
   ]
  },
  {
   "cell_type": "code",
   "execution_count": 9,
   "metadata": {
    "colab": {},
    "colab_type": "code",
    "id": "OAU_tEvtSUpQ"
   },
   "outputs": [],
   "source": [
    "def ticket2():\n",
    "    y = int(input('年齢を入力してください：'))\n",
    "    s = input('性別を入力してください：')\n",
    "    if y >= 18 and s == '女':\n",
    "        print('1300円です')\n",
    "    else:\n",
    "        print('チケットは売れません')"
   ]
  },
  {
   "cell_type": "markdown",
   "metadata": {
    "colab_type": "text",
    "id": "n6nTn2ozSUpT"
   },
   "source": [
    "□2-2. `ticket2()`を18歳未満の男の場合で試せ："
   ]
  },
  {
   "cell_type": "code",
   "execution_count": 10,
   "metadata": {
    "colab": {},
    "colab_type": "code",
    "id": "UjqMtucbSUpU"
   },
   "outputs": [
    {
     "name": "stdout",
     "output_type": "stream",
     "text": [
      "チケットは売れません\n"
     ]
    }
   ],
   "source": [
    "ticket2()"
   ]
  },
  {
   "cell_type": "markdown",
   "metadata": {
    "colab_type": "text",
    "id": "Kc3d0n5SSUpW"
   },
   "source": [
    "□2-3. `ticket2()`を18歳未満の女の場合で試せ："
   ]
  },
  {
   "cell_type": "code",
   "execution_count": 11,
   "metadata": {
    "colab": {},
    "colab_type": "code",
    "id": "R_tnu019SUpX"
   },
   "outputs": [
    {
     "name": "stdout",
     "output_type": "stream",
     "text": [
      "チケットは売れません\n"
     ]
    }
   ],
   "source": [
    "ticket2()"
   ]
  },
  {
   "cell_type": "markdown",
   "metadata": {
    "colab_type": "text",
    "id": "VdlmJQP8SUpa"
   },
   "source": [
    "□2-4. `ticket2()`を18歳以上の男の場合で試せ："
   ]
  },
  {
   "cell_type": "code",
   "execution_count": 12,
   "metadata": {
    "colab": {},
    "colab_type": "code",
    "id": "Lj2YCA6DSUpb"
   },
   "outputs": [
    {
     "name": "stdout",
     "output_type": "stream",
     "text": [
      "チケットは売れません\n"
     ]
    }
   ],
   "source": [
    "ticket2()"
   ]
  },
  {
   "cell_type": "markdown",
   "metadata": {
    "colab_type": "text",
    "id": "xupBa4z8SUpd"
   },
   "source": [
    "□2-5. `ticket2()`を18歳以上の女の場合で試せ："
   ]
  },
  {
   "cell_type": "code",
   "execution_count": 13,
   "metadata": {
    "colab": {},
    "colab_type": "code",
    "id": "hOmbGEBeSUpe"
   },
   "outputs": [
    {
     "name": "stdout",
     "output_type": "stream",
     "text": [
      "1300円です\n"
     ]
    }
   ],
   "source": [
    "ticket2()"
   ]
  },
  {
   "cell_type": "markdown",
   "metadata": {
    "colab_type": "text",
    "id": "BNd0yMGcSUpg"
   },
   "source": [
    "### ■3．プログラム名：`fat_judge()` "
   ]
  },
  {
   "cell_type": "markdown",
   "metadata": {
    "colab_type": "text",
    "id": "luNkmt8QSUph"
   },
   "source": [
    "□3-1. 以下の例のような実行をするプログラム(引数なしの関数)を作れ："
   ]
  },
  {
   "cell_type": "markdown",
   "metadata": {
    "colab_type": "text",
    "id": "D10HSJuiSUph"
   },
   "source": [
    ">【実行例】\n",
    ">```\n",
    "> 身長(cm) : 172.3      ←「身長(cm) : 」プロンプトから 172 を入力し［Enter］を押した。\n",
    "> 体重(kgw) : 82.5      ←「体重(kgw) : 」プロンプトから 82.5 を入力し［Enter］を押した。\n",
    "> BMI : 27.789670259562257   ←出力\n",
    "> 判定 : 肥満気味              ←出力\n",
    ">```\n",
    "  \n",
    "### <center>【fat_judge( ) のフローチャート】</center>  \n",
    "<img src = \"./docs/fat_judge.png\">"
   ]
  },
  {
   "cell_type": "code",
   "execution_count": 14,
   "metadata": {
    "colab": {},
    "colab_type": "code",
    "id": "R3Yy94vhSUpi"
   },
   "outputs": [],
   "source": [
    "def fat_jadge():\n",
    "    h = float(input('身長(cm) : '))\n",
    "    w = float(input('体重(kgw): '))\n",
    "    bmi = w / (h / 100)**2\n",
    "    print(f'bmi : {bmi}')\n",
    "    if bmi >= 30:\n",
    "        print('肥満')\n",
    "    elif bmi >= 25:\n",
    "        print('肥満気味')\n",
    "    elif bmi >= 18.5:\n",
    "        print('普通')\n",
    "    else:\n",
    "        print('やせ気味')"
   ]
  },
  {
   "cell_type": "markdown",
   "metadata": {
    "colab_type": "text",
    "id": "J8wXUieXSUpk"
   },
   "source": [
    "□3-2. `fat_judge()`を実行し、色々なケースについて結果を確かめよ："
   ]
  },
  {
   "cell_type": "code",
   "execution_count": 15,
   "metadata": {
    "colab": {},
    "colab_type": "code",
    "id": "vS-n1R1QSUpk"
   },
   "outputs": [
    {
     "name": "stdout",
     "output_type": "stream",
     "text": [
      "bmi : 19.36653678484626\n",
      "普通\n"
     ]
    }
   ],
   "source": [
    "fat_jadge()"
   ]
  },
  {
   "cell_type": "code",
   "execution_count": 16,
   "metadata": {
    "colab": {},
    "colab_type": "code",
    "id": "KGsIOgKRSUpm"
   },
   "outputs": [
    {
     "name": "stdout",
     "output_type": "stream",
     "text": [
      "bmi : 37.6972619883398\n",
      "肥満\n"
     ]
    }
   ],
   "source": [
    "fat_jadge()"
   ]
  },
  {
   "cell_type": "code",
   "execution_count": 18,
   "metadata": {
    "colab": {},
    "colab_type": "code",
    "id": "NcgYzKnmSUpo"
   },
   "outputs": [
    {
     "name": "stdout",
     "output_type": "stream",
     "text": [
      "bmi : 29.30547045553838\n",
      "肥満気味\n"
     ]
    }
   ],
   "source": [
    "fat_jadge()"
   ]
  },
  {
   "cell_type": "code",
   "execution_count": 20,
   "metadata": {
    "colab": {},
    "colab_type": "code",
    "id": "_1kA2sMlSUpp"
   },
   "outputs": [
    {
     "name": "stdout",
     "output_type": "stream",
     "text": [
      "bmi : 15.97998392870188\n",
      "やせ気味\n"
     ]
    }
   ],
   "source": [
    "fat_jadge()"
   ]
  },
  {
   "cell_type": "code",
   "execution_count": 23,
   "metadata": {
    "colab": {},
    "colab_type": "code",
    "id": "WaFPElVXSUpr"
   },
   "outputs": [
    {
     "name": "stdout",
     "output_type": "stream",
     "text": [
      "bmi : 14.645975711451275\n",
      "やせ気味\n"
     ]
    }
   ],
   "source": [
    "fat_jadge()"
   ]
  }
 ],
 "metadata": {
  "colab": {
   "name": "id_4-1.ipynb",
   "provenance": [],
   "version": "0.3.2"
  },
  "kernelspec": {
   "display_name": "Python 3",
   "language": "python",
   "name": "python3"
  },
  "language_info": {
   "codemirror_mode": {
    "name": "ipython",
    "version": 3
   },
   "file_extension": ".py",
   "mimetype": "text/x-python",
   "name": "python",
   "nbconvert_exporter": "python",
   "pygments_lexer": "ipython3",
   "version": "3.6.5"
  }
 },
 "nbformat": 4,
 "nbformat_minor": 2
}

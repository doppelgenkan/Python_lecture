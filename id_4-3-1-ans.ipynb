{
 "cells": [
  {
   "cell_type": "markdown",
   "metadata": {},
   "source": [
    "# 課題4.2（その１）\n",
    "*****"
   ]
  },
  {
   "cell_type": "markdown",
   "metadata": {},
   "source": [
    "学籍番号："
   ]
  },
  {
   "cell_type": "markdown",
   "metadata": {},
   "source": [
    "氏　　名："
   ]
  },
  {
   "cell_type": "markdown",
   "metadata": {},
   "source": [
    "*****"
   ]
  },
  {
   "cell_type": "markdown",
   "metadata": {},
   "source": [
    "**■問題１：** まず次のセルを実行せよ。実行後、`pi_list` というリストが作成される。`pi_list` は、円周率 $\\pi$ の小数第1000万位までの各１桁整数を順に要素にもつリストである。"
   ]
  },
  {
   "cell_type": "code",
   "execution_count": 1,
   "metadata": {},
   "outputs": [],
   "source": [
    "import pickle\n",
    "with open('pi_list.data', 'rb') as f:\n",
    "    pi_list = pickle.load(f)"
   ]
  },
  {
   "cell_type": "markdown",
   "metadata": {},
   "source": [
    "> `pi_list`は`[3,1,4,1,5,9,2,6,5,3,5,8,9,7,9,3,2,3,8,4,6,2,...]`というリストです。\n",
    ">> ※）$\\pi$ の任意の小数位までは、Python の外部モジュールである Sympy を使って得ることができます（Anaconda をインストールすると自動的にこのモジュールもインストールされます）。上のリストは，Sympy を使って、$\\pi$ の小数1000万位までを得、リスト化し、pickle という標準モジュールを使ってバイナリデータにしたものです。すべてのことを Python で行なっています。"
   ]
  },
  {
   "cell_type": "markdown",
   "metadata": {},
   "source": [
    "□1. `pi_list` の要素数を求めよ（教科書p.39参照）："
   ]
  },
  {
   "cell_type": "code",
   "execution_count": 2,
   "metadata": {},
   "outputs": [
    {
     "data": {
      "text/plain": [
       "10000001"
      ]
     },
     "execution_count": 2,
     "metadata": {},
     "output_type": "execute_result"
    }
   ],
   "source": [
    "len(pi_list)"
   ]
  },
  {
   "cell_type": "markdown",
   "metadata": {},
   "source": [
    "> 10000001 個ありますか？（整数部 3 はインデックス0の要素、小数第１位の 1 はインデックス1の要素、小数第２位の 4 はインデックス2の要素、小数第３位の 1 はインデックス3の要素、小数第４位の 5 はインデックス4の要素、... となるので、要素数はこうなるわけです。）"
   ]
  },
  {
   "cell_type": "markdown",
   "metadata": {},
   "source": [
    "□2. `input`関数で1桁の数字を入力し、`for` と `if` 文を使って、$\\pi$ の小数第1000万位までに `input`関数で入力した数字がいくつあるか求めるプログラムを作成せよ。ただし、プログラムを実行すると  \n",
    "```\n",
    "0～9の数字を入力：\n",
    "```  \n",
    "というプロンプトが表示され、例えば  \n",
    "```\n",
    "0～9の数字を入力：3\n",
    "```  \n",
    "と入力すれば、\n",
    "```\n",
    "3の個数 : 999965\n",
    "```\n",
    "と表示されるようにしておけ。"
   ]
  },
  {
   "cell_type": "code",
   "execution_count": 3,
   "metadata": {},
   "outputs": [
    {
     "name": "stdout",
     "output_type": "stream",
     "text": [
      "7の個数：1000207\n"
     ]
    }
   ],
   "source": [
    "num = int(input('0～9の数字を入力：'))\n",
    "counter = 0\n",
    "for j in pi_list:\n",
    "    if j == num:\n",
    "        counter += 1\n",
    "print(f'{num}の個数：{counter}')"
   ]
  },
  {
   "cell_type": "markdown",
   "metadata": {},
   "source": [
    "> ヒント：`counter` という変数を作りましょう（初期化のために `counter = 0` としておきます）。リスト `pi_list` から１つずつ要素を取り出し（← `for` 文）、取り出した数が 3 のとき（← `if` 文）、`counter` に 1 を足していきます。\n",
    ">\n",
    "> 流れ図は以下のようになります：\n",
    ">\n",
    "> <img src=\"pics/flowchart1.png\">"
   ]
  },
  {
   "cell_type": "markdown",
   "metadata": {},
   "source": [
    "□3．上のプログラムを実行（［Shift］＋［Enter］）し、`pi_list`に含まれる**3以外**の数字の個数を求めよ：  \n",
    "*****"
   ]
  },
  {
   "cell_type": "markdown",
   "metadata": {},
   "source": [
    "**■問題２：**`for`文と`range`関数を使って、**課題4.2**の**問題**のプログラムを作り直せ："
   ]
  },
  {
   "cell_type": "code",
   "execution_count": 4,
   "metadata": {},
   "outputs": [
    {
     "name": "stdout",
     "output_type": "stream",
     "text": [
      "8の個数：999814\n"
     ]
    }
   ],
   "source": [
    "num = int(input('0～9の数字を入力：'))\n",
    "counter = 0\n",
    "for j in range(len(pi_list)):\n",
    "    if pi_list[j] == num:\n",
    "        counter += 1\n",
    "print(f'{num}の個数：{counter}')"
   ]
  },
  {
   "cell_type": "code",
   "execution_count": null,
   "metadata": {},
   "outputs": [],
   "source": []
  }
 ],
 "metadata": {
  "kernelspec": {
   "display_name": "Python 3",
   "language": "python",
   "name": "python3"
  },
  "language_info": {
   "codemirror_mode": {
    "name": "ipython",
    "version": 3
   },
   "file_extension": ".py",
   "mimetype": "text/x-python",
   "name": "python",
   "nbconvert_exporter": "python",
   "pygments_lexer": "ipython3",
   "version": "3.6.5"
  }
 },
 "nbformat": 4,
 "nbformat_minor": 2
}
